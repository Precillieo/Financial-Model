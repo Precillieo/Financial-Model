{
  "nbformat": 4,
  "nbformat_minor": 0,
  "metadata": {
    "colab": {
      "name": "Finance Model 2",
      "provenance": [],
      "mount_file_id": "1aMWuYHb7LF16PYSxkVnO-TI0v2VcDLVL",
      "authorship_tag": "ABX9TyNw0FrEoIRaPyCK7dJ6MeaI",
      "include_colab_link": true
    },
    "kernelspec": {
      "name": "python3",
      "display_name": "Python 3"
    }
  },
  "cells": [
    {
      "cell_type": "markdown",
      "metadata": {
        "id": "view-in-github",
        "colab_type": "text"
      },
      "source": [
        "<a href=\"https://colab.research.google.com/github/Precillieo/Financial-Model/blob/main/Finance_Model_2.ipynb\" target=\"_parent\"><img src=\"https://colab.research.google.com/assets/colab-badge.svg\" alt=\"Open In Colab\"/></a>"
      ]
    },
    {
      "cell_type": "code",
      "metadata": {
        "id": "2xFVjgOJqEHS",
        "colab": {
          "base_uri": "https://localhost:8080/"
        },
        "outputId": "dda29aff-2bc3-4636-e7e1-dd04427258ae"
      },
      "source": [
        "import pandas as pd\r\n",
        "import numpy as np\r\n",
        "import seaborn as sns\r\n",
        "import datetime\r\n",
        "import matplotlib.pyplot as plt\r\n",
        "%matplotlib inline\r\n",
        "\r\n",
        "from sklearn.preprocessing import LabelEncoder\r\n",
        "from sklearn.model_selection import train_test_split, cross_val_score\r\n",
        "from sklearn.metrics import accuracy_score, classification_report\r\n",
        "from sklearn.linear_model import LogisticRegression\r\n",
        "from sklearn.ensemble import RandomForestClassifier, AdaBoostClassifier, GradientBoostingClassifier\r\n",
        "!pip install rgf-python\r\n",
        "from rgf.sklearn import RGFClassifier"
      ],
      "execution_count": 1,
      "outputs": [
        {
          "output_type": "stream",
          "text": [
            "Requirement already satisfied: rgf-python in /usr/local/lib/python3.6/dist-packages (3.9.0)\n",
            "Requirement already satisfied: six in /usr/local/lib/python3.6/dist-packages (from rgf-python) (1.15.0)\n",
            "Requirement already satisfied: joblib in /usr/local/lib/python3.6/dist-packages (from rgf-python) (1.0.0)\n",
            "Requirement already satisfied: scikit-learn>=0.18 in /usr/local/lib/python3.6/dist-packages (from rgf-python) (0.22.2.post1)\n",
            "Requirement already satisfied: numpy>=1.11.0 in /usr/local/lib/python3.6/dist-packages (from scikit-learn>=0.18->rgf-python) (1.19.4)\n",
            "Requirement already satisfied: scipy>=0.17.0 in /usr/local/lib/python3.6/dist-packages (from scikit-learn>=0.18->rgf-python) (1.4.1)\n"
          ],
          "name": "stdout"
        }
      ]
    },
    {
      "cell_type": "code",
      "metadata": {
        "id": "TUvJwuiiqu1V"
      },
      "source": [
        "df= pd.read_excel('/content/drive/MyDrive/Mr Olowe/Data Extract for Machine Learning 20201213.xlsx')"
      ],
      "execution_count": 2,
      "outputs": []
    },
    {
      "cell_type": "code",
      "metadata": {
        "colab": {
          "base_uri": "https://localhost:8080/",
          "height": 905
        },
        "id": "dhkDB1b0q1pk",
        "outputId": "71c4e73e-096a-476a-d9f0-972bfd9b4a03"
      },
      "source": [
        "df.head(15)"
      ],
      "execution_count": 3,
      "outputs": [
        {
          "output_type": "execute_result",
          "data": {
            "text/html": [
              "<div>\n",
              "<style scoped>\n",
              "    .dataframe tbody tr th:only-of-type {\n",
              "        vertical-align: middle;\n",
              "    }\n",
              "\n",
              "    .dataframe tbody tr th {\n",
              "        vertical-align: top;\n",
              "    }\n",
              "\n",
              "    .dataframe thead th {\n",
              "        text-align: right;\n",
              "    }\n",
              "</style>\n",
              "<table border=\"1\" class=\"dataframe\">\n",
              "  <thead>\n",
              "    <tr style=\"text-align: right;\">\n",
              "      <th></th>\n",
              "      <th>loan_amount</th>\n",
              "      <th>interest_due</th>\n",
              "      <th>amount_due</th>\n",
              "      <th>tenor</th>\n",
              "      <th>interest_rate</th>\n",
              "      <th>status_id</th>\n",
              "      <th>status</th>\n",
              "      <th>card_network</th>\n",
              "      <th>card_expiry</th>\n",
              "      <th>bank</th>\n",
              "      <th>phone_network</th>\n",
              "      <th>date_of_birth</th>\n",
              "      <th>tier</th>\n",
              "      <th>selfie_id_check</th>\n",
              "      <th>gender</th>\n",
              "      <th>marital_status</th>\n",
              "      <th>no_of_dependent</th>\n",
              "      <th>type_of_residence</th>\n",
              "      <th>educational_attainment</th>\n",
              "      <th>employment_status</th>\n",
              "      <th>sector_of_employment</th>\n",
              "      <th>monthly_net_income</th>\n",
              "      <th>work_start_date</th>\n",
              "      <th>work_email_validated</th>\n",
              "      <th>address</th>\n",
              "      <th>requested_amount</th>\n",
              "      <th>purpose</th>\n",
              "      <th>proposed_payday</th>\n",
              "      <th>credit_score</th>\n",
              "      <th>location</th>\n",
              "    </tr>\n",
              "  </thead>\n",
              "  <tbody>\n",
              "    <tr>\n",
              "      <th>0</th>\n",
              "      <td>3600.0</td>\n",
              "      <td>1277.64</td>\n",
              "      <td>4877.64</td>\n",
              "      <td>21 days</td>\n",
              "      <td>35.49</td>\n",
              "      <td>1</td>\n",
              "      <td>RUNNING</td>\n",
              "      <td>Mastercard</td>\n",
              "      <td>102023.0</td>\n",
              "      <td>Guaranty Trust Bank</td>\n",
              "      <td>805</td>\n",
              "      <td>1984-07-25</td>\n",
              "      <td>NaN</td>\n",
              "      <td>Pending</td>\n",
              "      <td>Male</td>\n",
              "      <td>Married</td>\n",
              "      <td>2</td>\n",
              "      <td>Parents Apartment</td>\n",
              "      <td>Diploma/School Cert</td>\n",
              "      <td>Self Employed</td>\n",
              "      <td>Agriculture</td>\n",
              "      <td>10,000 - 54,999</td>\n",
              "      <td>2017-10-07 01:00:00</td>\n",
              "      <td>0</td>\n",
              "      <td>Umuahia</td>\n",
              "      <td>12000.0</td>\n",
              "      <td>Business</td>\n",
              "      <td>30 days</td>\n",
              "      <td>63.040</td>\n",
              "      <td>abia</td>\n",
              "    </tr>\n",
              "    <tr>\n",
              "      <th>1</th>\n",
              "      <td>10000.0</td>\n",
              "      <td>500.00</td>\n",
              "      <td>0.00</td>\n",
              "      <td>1 days</td>\n",
              "      <td>5.00</td>\n",
              "      <td>2</td>\n",
              "      <td>SETTLED</td>\n",
              "      <td>Visa</td>\n",
              "      <td>NaN</td>\n",
              "      <td>NaN</td>\n",
              "      <td>813</td>\n",
              "      <td>1986-11-14</td>\n",
              "      <td>NaN</td>\n",
              "      <td>Successful</td>\n",
              "      <td>Female</td>\n",
              "      <td>Married</td>\n",
              "      <td>3 or more</td>\n",
              "      <td>Own House</td>\n",
              "      <td>BSc, HND and Other Equivalent</td>\n",
              "      <td>Self Employed</td>\n",
              "      <td>Information Technology</td>\n",
              "      <td>100,000 - 199,999</td>\n",
              "      <td>2012-06-01 01:00:00</td>\n",
              "      <td>0</td>\n",
              "      <td>Umuahia</td>\n",
              "      <td>15000.0</td>\n",
              "      <td>Personal</td>\n",
              "      <td>30 days</td>\n",
              "      <td>65.220</td>\n",
              "      <td>abia</td>\n",
              "    </tr>\n",
              "    <tr>\n",
              "      <th>2</th>\n",
              "      <td>10000.0</td>\n",
              "      <td>500.00</td>\n",
              "      <td>0.00</td>\n",
              "      <td>1 days</td>\n",
              "      <td>5.00</td>\n",
              "      <td>2</td>\n",
              "      <td>SETTLED</td>\n",
              "      <td>Mastercard</td>\n",
              "      <td>92023.0</td>\n",
              "      <td>United Bank for Africa</td>\n",
              "      <td>813</td>\n",
              "      <td>1986-11-14</td>\n",
              "      <td>NaN</td>\n",
              "      <td>Successful</td>\n",
              "      <td>Female</td>\n",
              "      <td>Married</td>\n",
              "      <td>3 or more</td>\n",
              "      <td>Own House</td>\n",
              "      <td>BSc, HND and Other Equivalent</td>\n",
              "      <td>Self Employed</td>\n",
              "      <td>Information Technology</td>\n",
              "      <td>100,000 - 199,999</td>\n",
              "      <td>2012-06-01 01:00:00</td>\n",
              "      <td>0</td>\n",
              "      <td>Umuahia</td>\n",
              "      <td>15000.0</td>\n",
              "      <td>Personal</td>\n",
              "      <td>30 days</td>\n",
              "      <td>65.220</td>\n",
              "      <td>abia</td>\n",
              "    </tr>\n",
              "    <tr>\n",
              "      <th>3</th>\n",
              "      <td>3600.0</td>\n",
              "      <td>1277.64</td>\n",
              "      <td>5573.64</td>\n",
              "      <td>21 days</td>\n",
              "      <td>35.49</td>\n",
              "      <td>5</td>\n",
              "      <td>PAST DUE</td>\n",
              "      <td>Mastercard</td>\n",
              "      <td>22023.0</td>\n",
              "      <td>United Bank for Africa</td>\n",
              "      <td>703</td>\n",
              "      <td>1980-05-17</td>\n",
              "      <td>NaN</td>\n",
              "      <td>Pending</td>\n",
              "      <td>Male</td>\n",
              "      <td>Single</td>\n",
              "      <td>0</td>\n",
              "      <td>Own House</td>\n",
              "      <td>Diploma/School Cert</td>\n",
              "      <td>Local Govt: Public</td>\n",
              "      <td>Agriculture</td>\n",
              "      <td>10,000 - 54,999</td>\n",
              "      <td>2007-07-01 00:00:00</td>\n",
              "      <td>0</td>\n",
              "      <td>Aba</td>\n",
              "      <td>15000.0</td>\n",
              "      <td>Medical</td>\n",
              "      <td>30 days</td>\n",
              "      <td>66.904</td>\n",
              "      <td>abia</td>\n",
              "    </tr>\n",
              "    <tr>\n",
              "      <th>4</th>\n",
              "      <td>5000.0</td>\n",
              "      <td>424.11</td>\n",
              "      <td>0.00</td>\n",
              "      <td>30 days</td>\n",
              "      <td>8.60</td>\n",
              "      <td>2</td>\n",
              "      <td>SETTLED</td>\n",
              "      <td>Mastercard</td>\n",
              "      <td>42022.0</td>\n",
              "      <td>Polaris Bank</td>\n",
              "      <td>803</td>\n",
              "      <td>1975-01-20</td>\n",
              "      <td>Tier 2</td>\n",
              "      <td>Successful</td>\n",
              "      <td>NaN</td>\n",
              "      <td>Married</td>\n",
              "      <td>2</td>\n",
              "      <td>NaN</td>\n",
              "      <td>BSc, HND and Other Equivalent</td>\n",
              "      <td>Self Employed</td>\n",
              "      <td>Information Technology</td>\n",
              "      <td>100,000 - 199,999</td>\n",
              "      <td>2002-01-01 00:00:00</td>\n",
              "      <td>0</td>\n",
              "      <td>NaN</td>\n",
              "      <td>20000.0</td>\n",
              "      <td>Medical</td>\n",
              "      <td>30 days</td>\n",
              "      <td>68.670</td>\n",
              "      <td>abia</td>\n",
              "    </tr>\n",
              "    <tr>\n",
              "      <th>5</th>\n",
              "      <td>5000.0</td>\n",
              "      <td>1000.00</td>\n",
              "      <td>6000.00</td>\n",
              "      <td>4 weeks</td>\n",
              "      <td>19.21</td>\n",
              "      <td>1</td>\n",
              "      <td>RUNNING</td>\n",
              "      <td>Mastercard</td>\n",
              "      <td>92022.0</td>\n",
              "      <td>United Bank for Africa</td>\n",
              "      <td>813</td>\n",
              "      <td>1995-03-08</td>\n",
              "      <td>Tier 1</td>\n",
              "      <td>Successful</td>\n",
              "      <td>NaN</td>\n",
              "      <td>Single</td>\n",
              "      <td>1</td>\n",
              "      <td>NaN</td>\n",
              "      <td>BSc, HND and Other Equivalent</td>\n",
              "      <td>Employed</td>\n",
              "      <td>Public services and administration</td>\n",
              "      <td>100,000 - 199,999</td>\n",
              "      <td>2018-01-01 00:00:00</td>\n",
              "      <td>0</td>\n",
              "      <td>NaN</td>\n",
              "      <td>5000.0</td>\n",
              "      <td>Business</td>\n",
              "      <td>4 weeks</td>\n",
              "      <td>57.870</td>\n",
              "      <td>abia</td>\n",
              "    </tr>\n",
              "    <tr>\n",
              "      <th>6</th>\n",
              "      <td>5000.0</td>\n",
              "      <td>1000.00</td>\n",
              "      <td>0.00</td>\n",
              "      <td>1 months</td>\n",
              "      <td>11.40</td>\n",
              "      <td>2</td>\n",
              "      <td>SETTLED</td>\n",
              "      <td>Mastercard</td>\n",
              "      <td>42021.0</td>\n",
              "      <td>First Bank of Nigeria</td>\n",
              "      <td>703</td>\n",
              "      <td>1988-10-05</td>\n",
              "      <td>Tier 1</td>\n",
              "      <td>Pending</td>\n",
              "      <td>NaN</td>\n",
              "      <td>Married</td>\n",
              "      <td>4</td>\n",
              "      <td>NaN</td>\n",
              "      <td>Others</td>\n",
              "      <td>Self Employed</td>\n",
              "      <td>Information Technology</td>\n",
              "      <td>100,000 - 199,999</td>\n",
              "      <td>2015-01-01 00:00:00</td>\n",
              "      <td>0</td>\n",
              "      <td>NaN</td>\n",
              "      <td>20000.0</td>\n",
              "      <td>Business</td>\n",
              "      <td>1 months</td>\n",
              "      <td>58.010</td>\n",
              "      <td>abia</td>\n",
              "    </tr>\n",
              "    <tr>\n",
              "      <th>7</th>\n",
              "      <td>5000.0</td>\n",
              "      <td>1000.00</td>\n",
              "      <td>6550.00</td>\n",
              "      <td>15 days</td>\n",
              "      <td>11.38</td>\n",
              "      <td>5</td>\n",
              "      <td>PAST DUE</td>\n",
              "      <td>Mastercard</td>\n",
              "      <td>22022.0</td>\n",
              "      <td>Guaranty Trust Bank</td>\n",
              "      <td>803</td>\n",
              "      <td>1981-02-15</td>\n",
              "      <td>Tier 1</td>\n",
              "      <td>Successful</td>\n",
              "      <td>NaN</td>\n",
              "      <td>Single</td>\n",
              "      <td>0</td>\n",
              "      <td>NaN</td>\n",
              "      <td>BSc, HND and Other Equivalent</td>\n",
              "      <td>Employed</td>\n",
              "      <td>Oil and Gas</td>\n",
              "      <td>55,000 - 99,999</td>\n",
              "      <td>2017-01-01 00:00:00</td>\n",
              "      <td>0</td>\n",
              "      <td>NaN</td>\n",
              "      <td>20000.0</td>\n",
              "      <td>Personal</td>\n",
              "      <td>15 days</td>\n",
              "      <td>60.530</td>\n",
              "      <td>abia</td>\n",
              "    </tr>\n",
              "    <tr>\n",
              "      <th>8</th>\n",
              "      <td>5000.0</td>\n",
              "      <td>1000.00</td>\n",
              "      <td>0.00</td>\n",
              "      <td>30 days</td>\n",
              "      <td>11.38</td>\n",
              "      <td>2</td>\n",
              "      <td>SETTLED</td>\n",
              "      <td>Visa</td>\n",
              "      <td>72023.0</td>\n",
              "      <td>United Bank for Africa</td>\n",
              "      <td>814</td>\n",
              "      <td>1996-10-21</td>\n",
              "      <td>Tier 1</td>\n",
              "      <td>Failed</td>\n",
              "      <td>NaN</td>\n",
              "      <td>Single</td>\n",
              "      <td>1</td>\n",
              "      <td>NaN</td>\n",
              "      <td>Undergraduate</td>\n",
              "      <td>Self Employed</td>\n",
              "      <td>Others</td>\n",
              "      <td>Above 200,000</td>\n",
              "      <td>2013-01-01 00:00:00</td>\n",
              "      <td>0</td>\n",
              "      <td>NaN</td>\n",
              "      <td>10000.0</td>\n",
              "      <td>Business</td>\n",
              "      <td>30 days</td>\n",
              "      <td>60.670</td>\n",
              "      <td>abia</td>\n",
              "    </tr>\n",
              "    <tr>\n",
              "      <th>9</th>\n",
              "      <td>5000.0</td>\n",
              "      <td>1000.00</td>\n",
              "      <td>0.00</td>\n",
              "      <td>4 weeks</td>\n",
              "      <td>11.37</td>\n",
              "      <td>2</td>\n",
              "      <td>SETTLED</td>\n",
              "      <td>Mastercard</td>\n",
              "      <td>32023.0</td>\n",
              "      <td>Fidelity Bank</td>\n",
              "      <td>908</td>\n",
              "      <td>1998-10-17</td>\n",
              "      <td>Tier 1</td>\n",
              "      <td>Pending</td>\n",
              "      <td>NaN</td>\n",
              "      <td>Married</td>\n",
              "      <td>1</td>\n",
              "      <td>NaN</td>\n",
              "      <td>Undergraduate</td>\n",
              "      <td>Self Employed</td>\n",
              "      <td>Information Technology</td>\n",
              "      <td>100,000 - 199,999</td>\n",
              "      <td>2016-01-01 00:00:00</td>\n",
              "      <td>0</td>\n",
              "      <td>NaN</td>\n",
              "      <td>5000.0</td>\n",
              "      <td>Business</td>\n",
              "      <td>4 weeks</td>\n",
              "      <td>61.140</td>\n",
              "      <td>abia</td>\n",
              "    </tr>\n",
              "    <tr>\n",
              "      <th>10</th>\n",
              "      <td>5000.0</td>\n",
              "      <td>1000.00</td>\n",
              "      <td>6000.00</td>\n",
              "      <td>1 months</td>\n",
              "      <td>18.82</td>\n",
              "      <td>1</td>\n",
              "      <td>RUNNING</td>\n",
              "      <td>Visa</td>\n",
              "      <td>122022.0</td>\n",
              "      <td>Access Bank</td>\n",
              "      <td>802</td>\n",
              "      <td>1982-04-07</td>\n",
              "      <td>Tier 1</td>\n",
              "      <td>Pending</td>\n",
              "      <td>NaN</td>\n",
              "      <td>Married</td>\n",
              "      <td>7</td>\n",
              "      <td>NaN</td>\n",
              "      <td>Undergraduate</td>\n",
              "      <td>Self Employed</td>\n",
              "      <td>Wholesale and Retail Trade</td>\n",
              "      <td>10,000 - 54,999</td>\n",
              "      <td>2011-01-01 00:00:00</td>\n",
              "      <td>0</td>\n",
              "      <td>NaN</td>\n",
              "      <td>50000.0</td>\n",
              "      <td>Business</td>\n",
              "      <td>1 months</td>\n",
              "      <td>61.850</td>\n",
              "      <td>abia</td>\n",
              "    </tr>\n",
              "    <tr>\n",
              "      <th>11</th>\n",
              "      <td>5000.0</td>\n",
              "      <td>1000.00</td>\n",
              "      <td>6000.00</td>\n",
              "      <td>4 weeks</td>\n",
              "      <td>18.80</td>\n",
              "      <td>1</td>\n",
              "      <td>RUNNING</td>\n",
              "      <td>Mastercard</td>\n",
              "      <td>32023.0</td>\n",
              "      <td>Fidelity Bank</td>\n",
              "      <td>908</td>\n",
              "      <td>1998-10-17</td>\n",
              "      <td>Tier 1</td>\n",
              "      <td>Pending</td>\n",
              "      <td>NaN</td>\n",
              "      <td>Married</td>\n",
              "      <td>1</td>\n",
              "      <td>NaN</td>\n",
              "      <td>Undergraduate</td>\n",
              "      <td>Self Employed</td>\n",
              "      <td>Information Technology</td>\n",
              "      <td>100,000 - 199,999</td>\n",
              "      <td>2016-01-01 00:00:00</td>\n",
              "      <td>0</td>\n",
              "      <td>NaN</td>\n",
              "      <td>7000.0</td>\n",
              "      <td>Business</td>\n",
              "      <td>4 weeks</td>\n",
              "      <td>62.000</td>\n",
              "      <td>abia</td>\n",
              "    </tr>\n",
              "    <tr>\n",
              "      <th>12</th>\n",
              "      <td>5000.0</td>\n",
              "      <td>1000.00</td>\n",
              "      <td>0.00</td>\n",
              "      <td>4 weeks</td>\n",
              "      <td>11.36</td>\n",
              "      <td>2</td>\n",
              "      <td>SETTLED</td>\n",
              "      <td>Mastercard</td>\n",
              "      <td>82023.0</td>\n",
              "      <td>United Bank for Africa</td>\n",
              "      <td>816</td>\n",
              "      <td>1992-02-21</td>\n",
              "      <td>Tier 1</td>\n",
              "      <td>Failed</td>\n",
              "      <td>NaN</td>\n",
              "      <td>Married</td>\n",
              "      <td>1</td>\n",
              "      <td>NaN</td>\n",
              "      <td>BSc, HND and Other Equivalent</td>\n",
              "      <td>Self Employed</td>\n",
              "      <td>Others</td>\n",
              "      <td>Above 200,000</td>\n",
              "      <td>2017-01-01 00:00:00</td>\n",
              "      <td>0</td>\n",
              "      <td>NaN</td>\n",
              "      <td>5000.0</td>\n",
              "      <td>Business</td>\n",
              "      <td>4 weeks</td>\n",
              "      <td>62.660</td>\n",
              "      <td>abia</td>\n",
              "    </tr>\n",
              "    <tr>\n",
              "      <th>13</th>\n",
              "      <td>5000.0</td>\n",
              "      <td>1000.00</td>\n",
              "      <td>6300.00</td>\n",
              "      <td>21 days</td>\n",
              "      <td>16.71</td>\n",
              "      <td>5</td>\n",
              "      <td>PAST DUE</td>\n",
              "      <td>Mastercard</td>\n",
              "      <td>122022.0</td>\n",
              "      <td>Union Bank of Nigeria</td>\n",
              "      <td>902</td>\n",
              "      <td>1989-06-09</td>\n",
              "      <td>Tier 1</td>\n",
              "      <td>Successful</td>\n",
              "      <td>NaN</td>\n",
              "      <td>Single</td>\n",
              "      <td>3</td>\n",
              "      <td>NaN</td>\n",
              "      <td>Undergraduate</td>\n",
              "      <td>Self Employed</td>\n",
              "      <td>Others</td>\n",
              "      <td>55,000 - 99,999</td>\n",
              "      <td>2008-01-01 00:00:00</td>\n",
              "      <td>0</td>\n",
              "      <td>NaN</td>\n",
              "      <td>10000.0</td>\n",
              "      <td>Business</td>\n",
              "      <td>21 days</td>\n",
              "      <td>63.380</td>\n",
              "      <td>abia</td>\n",
              "    </tr>\n",
              "    <tr>\n",
              "      <th>14</th>\n",
              "      <td>2000.0</td>\n",
              "      <td>1000.00</td>\n",
              "      <td>0.00</td>\n",
              "      <td>15 days</td>\n",
              "      <td>18.65</td>\n",
              "      <td>2</td>\n",
              "      <td>SETTLED</td>\n",
              "      <td>Mastercard</td>\n",
              "      <td>12023.0</td>\n",
              "      <td>First Bank of Nigeria</td>\n",
              "      <td>706</td>\n",
              "      <td>1990-11-20</td>\n",
              "      <td>Tier 1</td>\n",
              "      <td>Successful</td>\n",
              "      <td>NaN</td>\n",
              "      <td>Married</td>\n",
              "      <td>2</td>\n",
              "      <td>NaN</td>\n",
              "      <td>BSc, HND and Other Equivalent</td>\n",
              "      <td>Self Employed</td>\n",
              "      <td>Agriculture</td>\n",
              "      <td>55,000 - 99,999</td>\n",
              "      <td>2017-01-01 00:00:00</td>\n",
              "      <td>0</td>\n",
              "      <td>NaN</td>\n",
              "      <td>2000.0</td>\n",
              "      <td>Business</td>\n",
              "      <td>15 days</td>\n",
              "      <td>63.460</td>\n",
              "      <td>abia</td>\n",
              "    </tr>\n",
              "  </tbody>\n",
              "</table>\n",
              "</div>"
            ],
            "text/plain": [
              "    loan_amount  interest_due  ...  credit_score location\n",
              "0        3600.0       1277.64  ...        63.040     abia\n",
              "1       10000.0        500.00  ...        65.220     abia\n",
              "2       10000.0        500.00  ...        65.220     abia\n",
              "3        3600.0       1277.64  ...        66.904     abia\n",
              "4        5000.0        424.11  ...        68.670     abia\n",
              "5        5000.0       1000.00  ...        57.870     abia\n",
              "6        5000.0       1000.00  ...        58.010     abia\n",
              "7        5000.0       1000.00  ...        60.530     abia\n",
              "8        5000.0       1000.00  ...        60.670     abia\n",
              "9        5000.0       1000.00  ...        61.140     abia\n",
              "10       5000.0       1000.00  ...        61.850     abia\n",
              "11       5000.0       1000.00  ...        62.000     abia\n",
              "12       5000.0       1000.00  ...        62.660     abia\n",
              "13       5000.0       1000.00  ...        63.380     abia\n",
              "14       2000.0       1000.00  ...        63.460     abia\n",
              "\n",
              "[15 rows x 30 columns]"
            ]
          },
          "metadata": {
            "tags": []
          },
          "execution_count": 3
        }
      ]
    },
    {
      "cell_type": "code",
      "metadata": {
        "colab": {
          "base_uri": "https://localhost:8080/"
        },
        "id": "fquGGqwwJOAd",
        "outputId": "66fd7397-0238-4844-f39f-9c754ba7f6fa"
      },
      "source": [
        "df.shape"
      ],
      "execution_count": 4,
      "outputs": [
        {
          "output_type": "execute_result",
          "data": {
            "text/plain": [
              "(2981, 30)"
            ]
          },
          "metadata": {
            "tags": []
          },
          "execution_count": 4
        }
      ]
    },
    {
      "cell_type": "code",
      "metadata": {
        "colab": {
          "base_uri": "https://localhost:8080/",
          "height": 335
        },
        "id": "TbxXCgjdX2hX",
        "outputId": "15af2c5b-2027-42c2-bf47-81aa6285f4f0"
      },
      "source": [
        "df.corr()"
      ],
      "execution_count": 5,
      "outputs": [
        {
          "output_type": "execute_result",
          "data": {
            "text/html": [
              "<div>\n",
              "<style scoped>\n",
              "    .dataframe tbody tr th:only-of-type {\n",
              "        vertical-align: middle;\n",
              "    }\n",
              "\n",
              "    .dataframe tbody tr th {\n",
              "        vertical-align: top;\n",
              "    }\n",
              "\n",
              "    .dataframe thead th {\n",
              "        text-align: right;\n",
              "    }\n",
              "</style>\n",
              "<table border=\"1\" class=\"dataframe\">\n",
              "  <thead>\n",
              "    <tr style=\"text-align: right;\">\n",
              "      <th></th>\n",
              "      <th>loan_amount</th>\n",
              "      <th>interest_due</th>\n",
              "      <th>amount_due</th>\n",
              "      <th>interest_rate</th>\n",
              "      <th>status_id</th>\n",
              "      <th>card_expiry</th>\n",
              "      <th>phone_network</th>\n",
              "      <th>work_email_validated</th>\n",
              "      <th>requested_amount</th>\n",
              "      <th>credit_score</th>\n",
              "    </tr>\n",
              "  </thead>\n",
              "  <tbody>\n",
              "    <tr>\n",
              "      <th>loan_amount</th>\n",
              "      <td>1.000000</td>\n",
              "      <td>0.844030</td>\n",
              "      <td>0.673658</td>\n",
              "      <td>-0.029748</td>\n",
              "      <td>-0.080333</td>\n",
              "      <td>0.020951</td>\n",
              "      <td>-0.024393</td>\n",
              "      <td>-0.064608</td>\n",
              "      <td>0.026020</td>\n",
              "      <td>0.058550</td>\n",
              "    </tr>\n",
              "    <tr>\n",
              "      <th>interest_due</th>\n",
              "      <td>0.844030</td>\n",
              "      <td>1.000000</td>\n",
              "      <td>0.682882</td>\n",
              "      <td>0.261310</td>\n",
              "      <td>-0.110580</td>\n",
              "      <td>0.031285</td>\n",
              "      <td>-0.001660</td>\n",
              "      <td>0.000497</td>\n",
              "      <td>0.004526</td>\n",
              "      <td>0.058809</td>\n",
              "    </tr>\n",
              "    <tr>\n",
              "      <th>amount_due</th>\n",
              "      <td>0.673658</td>\n",
              "      <td>0.682882</td>\n",
              "      <td>1.000000</td>\n",
              "      <td>0.190289</td>\n",
              "      <td>0.005651</td>\n",
              "      <td>0.025132</td>\n",
              "      <td>0.011969</td>\n",
              "      <td>-0.036102</td>\n",
              "      <td>0.022740</td>\n",
              "      <td>0.043661</td>\n",
              "    </tr>\n",
              "    <tr>\n",
              "      <th>interest_rate</th>\n",
              "      <td>-0.029748</td>\n",
              "      <td>0.261310</td>\n",
              "      <td>0.190289</td>\n",
              "      <td>1.000000</td>\n",
              "      <td>-0.228158</td>\n",
              "      <td>0.030373</td>\n",
              "      <td>-0.003669</td>\n",
              "      <td>0.223259</td>\n",
              "      <td>-0.009559</td>\n",
              "      <td>0.235940</td>\n",
              "    </tr>\n",
              "    <tr>\n",
              "      <th>status_id</th>\n",
              "      <td>-0.080333</td>\n",
              "      <td>-0.110580</td>\n",
              "      <td>0.005651</td>\n",
              "      <td>-0.228158</td>\n",
              "      <td>1.000000</td>\n",
              "      <td>-0.038125</td>\n",
              "      <td>0.024915</td>\n",
              "      <td>0.033600</td>\n",
              "      <td>-0.016094</td>\n",
              "      <td>-0.122238</td>\n",
              "    </tr>\n",
              "    <tr>\n",
              "      <th>card_expiry</th>\n",
              "      <td>0.020951</td>\n",
              "      <td>0.031285</td>\n",
              "      <td>0.025132</td>\n",
              "      <td>0.030373</td>\n",
              "      <td>-0.038125</td>\n",
              "      <td>1.000000</td>\n",
              "      <td>0.027508</td>\n",
              "      <td>-0.011407</td>\n",
              "      <td>0.000766</td>\n",
              "      <td>0.039887</td>\n",
              "    </tr>\n",
              "    <tr>\n",
              "      <th>phone_network</th>\n",
              "      <td>-0.024393</td>\n",
              "      <td>-0.001660</td>\n",
              "      <td>0.011969</td>\n",
              "      <td>-0.003669</td>\n",
              "      <td>0.024915</td>\n",
              "      <td>0.027508</td>\n",
              "      <td>1.000000</td>\n",
              "      <td>-0.014131</td>\n",
              "      <td>0.005946</td>\n",
              "      <td>-0.066709</td>\n",
              "    </tr>\n",
              "    <tr>\n",
              "      <th>work_email_validated</th>\n",
              "      <td>-0.064608</td>\n",
              "      <td>0.000497</td>\n",
              "      <td>-0.036102</td>\n",
              "      <td>0.223259</td>\n",
              "      <td>0.033600</td>\n",
              "      <td>-0.011407</td>\n",
              "      <td>-0.014131</td>\n",
              "      <td>1.000000</td>\n",
              "      <td>-0.003703</td>\n",
              "      <td>0.073265</td>\n",
              "    </tr>\n",
              "    <tr>\n",
              "      <th>requested_amount</th>\n",
              "      <td>0.026020</td>\n",
              "      <td>0.004526</td>\n",
              "      <td>0.022740</td>\n",
              "      <td>-0.009559</td>\n",
              "      <td>-0.016094</td>\n",
              "      <td>0.000766</td>\n",
              "      <td>0.005946</td>\n",
              "      <td>-0.003703</td>\n",
              "      <td>1.000000</td>\n",
              "      <td>0.044138</td>\n",
              "    </tr>\n",
              "    <tr>\n",
              "      <th>credit_score</th>\n",
              "      <td>0.058550</td>\n",
              "      <td>0.058809</td>\n",
              "      <td>0.043661</td>\n",
              "      <td>0.235940</td>\n",
              "      <td>-0.122238</td>\n",
              "      <td>0.039887</td>\n",
              "      <td>-0.066709</td>\n",
              "      <td>0.073265</td>\n",
              "      <td>0.044138</td>\n",
              "      <td>1.000000</td>\n",
              "    </tr>\n",
              "  </tbody>\n",
              "</table>\n",
              "</div>"
            ],
            "text/plain": [
              "                      loan_amount  interest_due  ...  requested_amount  credit_score\n",
              "loan_amount              1.000000      0.844030  ...          0.026020      0.058550\n",
              "interest_due             0.844030      1.000000  ...          0.004526      0.058809\n",
              "amount_due               0.673658      0.682882  ...          0.022740      0.043661\n",
              "interest_rate           -0.029748      0.261310  ...         -0.009559      0.235940\n",
              "status_id               -0.080333     -0.110580  ...         -0.016094     -0.122238\n",
              "card_expiry              0.020951      0.031285  ...          0.000766      0.039887\n",
              "phone_network           -0.024393     -0.001660  ...          0.005946     -0.066709\n",
              "work_email_validated    -0.064608      0.000497  ...         -0.003703      0.073265\n",
              "requested_amount         0.026020      0.004526  ...          1.000000      0.044138\n",
              "credit_score             0.058550      0.058809  ...          0.044138      1.000000\n",
              "\n",
              "[10 rows x 10 columns]"
            ]
          },
          "metadata": {
            "tags": []
          },
          "execution_count": 5
        }
      ]
    },
    {
      "cell_type": "code",
      "metadata": {
        "id": "FvJFLSNCYtOD"
      },
      "source": [
        "#df[df.columns[1:]].corrwith(df['status'])"
      ],
      "execution_count": 6,
      "outputs": []
    },
    {
      "cell_type": "code",
      "metadata": {
        "colab": {
          "base_uri": "https://localhost:8080/"
        },
        "id": "VUgJUx72wbhA",
        "outputId": "b6ad7a9a-ee06-480d-8552-54bd3e7c8a68"
      },
      "source": [
        "df.info()"
      ],
      "execution_count": 7,
      "outputs": [
        {
          "output_type": "stream",
          "text": [
            "<class 'pandas.core.frame.DataFrame'>\n",
            "RangeIndex: 2981 entries, 0 to 2980\n",
            "Data columns (total 30 columns):\n",
            " #   Column                  Non-Null Count  Dtype         \n",
            "---  ------                  --------------  -----         \n",
            " 0   loan_amount             2981 non-null   float64       \n",
            " 1   interest_due            2981 non-null   float64       \n",
            " 2   amount_due              2981 non-null   float64       \n",
            " 3   tenor                   2981 non-null   object        \n",
            " 4   interest_rate           2958 non-null   float64       \n",
            " 5   status_id               2981 non-null   int64         \n",
            " 6   status                  2981 non-null   object        \n",
            " 7   card_network            2981 non-null   object        \n",
            " 8   card_expiry             2941 non-null   float64       \n",
            " 9   bank                    2941 non-null   object        \n",
            " 10  phone_network           2981 non-null   int64         \n",
            " 11  date_of_birth           2981 non-null   datetime64[ns]\n",
            " 12  tier                    2472 non-null   object        \n",
            " 13  selfie_id_check         2598 non-null   object        \n",
            " 14  gender                  558 non-null    object        \n",
            " 15  marital_status          2981 non-null   object        \n",
            " 16  no_of_dependent         2981 non-null   object        \n",
            " 17  type_of_residence       558 non-null    object        \n",
            " 18  educational_attainment  2981 non-null   object        \n",
            " 19  employment_status       2981 non-null   object        \n",
            " 20  sector_of_employment    2981 non-null   object        \n",
            " 21  monthly_net_income      2981 non-null   object        \n",
            " 22  work_start_date         2981 non-null   datetime64[ns]\n",
            " 23  work_email_validated    2981 non-null   int64         \n",
            " 24  address                 558 non-null    object        \n",
            " 25  requested_amount        2981 non-null   float64       \n",
            " 26  purpose                 2981 non-null   object        \n",
            " 27  proposed_payday         2981 non-null   object        \n",
            " 28  credit_score            2981 non-null   float64       \n",
            " 29  location                2981 non-null   object        \n",
            "dtypes: datetime64[ns](2), float64(7), int64(3), object(18)\n",
            "memory usage: 698.8+ KB\n"
          ],
          "name": "stdout"
        }
      ]
    },
    {
      "cell_type": "markdown",
      "metadata": {
        "id": "mqpzjGoMeUkp"
      },
      "source": [
        "# Visualizing The Target Value"
      ]
    },
    {
      "cell_type": "code",
      "metadata": {
        "colab": {
          "base_uri": "https://localhost:8080/",
          "height": 295
        },
        "id": "tK7H9Ir0eDS1",
        "outputId": "7fe7c71a-5070-4952-a83f-78e8f7054003"
      },
      "source": [
        "sns.countplot(x= df['status'])"
      ],
      "execution_count": 8,
      "outputs": [
        {
          "output_type": "execute_result",
          "data": {
            "text/plain": [
              "<matplotlib.axes._subplots.AxesSubplot at 0x7f4ed9df9dd8>"
            ]
          },
          "metadata": {
            "tags": []
          },
          "execution_count": 8
        },
        {
          "output_type": "display_data",
          "data": {
            "image/png": "[encoded data removed]",
            "text/plain": [
              "<Figure size 432x288 with 1 Axes>"
            ]
          },
          "metadata": {
            "tags": [],
            "needs_background": "light"
          }
        }
      ]
    },
    {
      "cell_type": "markdown",
      "metadata": {
        "id": "TBFsRx5Z1mrL"
      },
      "source": [
        "# Working With Date Related Columns\r\n",
        "### Date Of Birth\r\n",
        "### Work Start Date"
      ]
    },
    {
      "cell_type": "code",
      "metadata": {
        "id": "B-YohTQp2FCd"
      },
      "source": [
        "date_column= ['date_of_birth', 'work_start_date']"
      ],
      "execution_count": 9,
      "outputs": []
    },
    {
      "cell_type": "code",
      "metadata": {
        "id": "CeY3Y1qb1mNv"
      },
      "source": [
        "def extract_date(df,cols,):\r\n",
        "    for x in cols:\r\n",
        "        df[x +'_year'] = df[x].dt.quarter\r\n",
        "        df[x +'_day'] = df[x].dt.day\r\n",
        "        df[x +'_month'] = df[x].dt.month\r\n",
        "        df[x +'_quarter'] = df[x].dt.quarter\r\n",
        "    df.drop(columns=date_column,axis=1,inplace=True)"
      ],
      "execution_count": 10,
      "outputs": []
    },
    {
      "cell_type": "code",
      "metadata": {
        "id": "ZK0iDek4xHna"
      },
      "source": [
        "extract_date(df,date_column)"
      ],
      "execution_count": 11,
      "outputs": []
    },
    {
      "cell_type": "markdown",
      "metadata": {
        "id": "qwyCJR1MDVRA"
      },
      "source": [
        "# Working On Date Column2\r\n",
        "### Tenor"
      ]
    },
    {
      "cell_type": "code",
      "metadata": {
        "colab": {
          "base_uri": "https://localhost:8080/"
        },
        "id": "iHaPpSY56jfA",
        "outputId": "ac11e451-c9cd-49e0-a903-f8d660918c33"
      },
      "source": [
        "df['tenor'].value_counts()"
      ],
      "execution_count": 12,
      "outputs": [
        {
          "output_type": "execute_result",
          "data": {
            "text/plain": [
              "1 months    673\n",
              "30 days     656\n",
              "15 days     655\n",
              "14 days     297\n",
              "4 weeks     168\n",
              "21 days     158\n",
              "3 weeks     103\n",
              "20 days      49\n",
              "7 days       46\n",
              "1 days       44\n",
              "28 days      42\n",
              "25 days      27\n",
              "16 days      18\n",
              "10 days      13\n",
              "29 days       8\n",
              "22 days       5\n",
              "18 days       5\n",
              "17 days       5\n",
              "27 days       3\n",
              "26 days       2\n",
              "23 days       1\n",
              "12 days       1\n",
              "19 days       1\n",
              "24 days       1\n",
              "Name: tenor, dtype: int64"
            ]
          },
          "metadata": {
            "tags": []
          },
          "execution_count": 12
        }
      ]
    },
    {
      "cell_type": "code",
      "metadata": {
        "id": "E8oeA8Dk616n"
      },
      "source": [
        "df['tenor']= df['tenor'].replace(['4 weeks', '3 weeks', '1 months'], ['30 days', '21 days', '30 days'])"
      ],
      "execution_count": 13,
      "outputs": []
    },
    {
      "cell_type": "markdown",
      "metadata": {
        "id": "29jn5Z_0Kax0"
      },
      "source": [
        "# Filling Missing Values"
      ]
    },
    {
      "cell_type": "code",
      "metadata": {
        "colab": {
          "base_uri": "https://localhost:8080/"
        },
        "id": "vEHUjWeGGve8",
        "outputId": "38d88850-1138-4fd5-a834-6bfa291222e1"
      },
      "source": [
        "df.isnull().sum()"
      ],
      "execution_count": 14,
      "outputs": [
        {
          "output_type": "execute_result",
          "data": {
            "text/plain": [
              "loan_amount                   0\n",
              "interest_due                  0\n",
              "amount_due                    0\n",
              "tenor                         0\n",
              "interest_rate                23\n",
              "status_id                     0\n",
              "status                        0\n",
              "card_network                  0\n",
              "card_expiry                  40\n",
              "bank                         40\n",
              "phone_network                 0\n",
              "tier                        509\n",
              "selfie_id_check             383\n",
              "gender                     2423\n",
              "marital_status                0\n",
              "no_of_dependent               0\n",
              "type_of_residence          2423\n",
              "educational_attainment        0\n",
              "employment_status             0\n",
              "sector_of_employment          0\n",
              "monthly_net_income            0\n",
              "work_email_validated          0\n",
              "address                    2423\n",
              "requested_amount              0\n",
              "purpose                       0\n",
              "proposed_payday               0\n",
              "credit_score                  0\n",
              "location                      0\n",
              "date_of_birth_year            0\n",
              "date_of_birth_day             0\n",
              "date_of_birth_month           0\n",
              "date_of_birth_quarter         0\n",
              "work_start_date_year          0\n",
              "work_start_date_day           0\n",
              "work_start_date_month         0\n",
              "work_start_date_quarter       0\n",
              "dtype: int64"
            ]
          },
          "metadata": {
            "tags": []
          },
          "execution_count": 14
        }
      ]
    },
    {
      "cell_type": "markdown",
      "metadata": {
        "id": "hNDVSgQmKok1"
      },
      "source": [
        "\r\n",
        "## Interest Rate Column"
      ]
    },
    {
      "cell_type": "code",
      "metadata": {
        "colab": {
          "base_uri": "https://localhost:8080/"
        },
        "id": "sC8y2B3uG6pa",
        "outputId": "62a5fb9e-3c4a-40e8-d1d6-b548b84d30d1"
      },
      "source": [
        "df['interest_rate'].value_counts()"
      ],
      "execution_count": 15,
      "outputs": [
        {
          "output_type": "execute_result",
          "data": {
            "text/plain": [
              "25.20    295\n",
              "35.49    122\n",
              "15.00    107\n",
              "11.33     47\n",
              "11.32     46\n",
              "        ... \n",
              "8.36       1\n",
              "19.45      1\n",
              "9.98       1\n",
              "8.37       1\n",
              "8.23       1\n",
              "Name: interest_rate, Length: 390, dtype: int64"
            ]
          },
          "metadata": {
            "tags": []
          },
          "execution_count": 15
        }
      ]
    },
    {
      "cell_type": "code",
      "metadata": {
        "id": "rh6HD2yoHH5Q"
      },
      "source": [
        "df['interest_rate']= df['interest_rate'].fillna(df['interest_rate'].mean())"
      ],
      "execution_count": 16,
      "outputs": []
    },
    {
      "cell_type": "markdown",
      "metadata": {
        "id": "OTH75tWFKvW3"
      },
      "source": [
        "## Card Expiry Column"
      ]
    },
    {
      "cell_type": "code",
      "metadata": {
        "colab": {
          "base_uri": "https://localhost:8080/"
        },
        "id": "ZyWgs2t-HdRs",
        "outputId": "c1476c66-5a14-4d3b-a7c8-5242d5ddd449"
      },
      "source": [
        " df['card_expiry'].value_counts()"
      ],
      "execution_count": 17,
      "outputs": [
        {
          "output_type": "execute_result",
          "data": {
            "text/plain": [
              "22023.0     167\n",
              "32023.0     158\n",
              "82023.0     148\n",
              "92023.0     143\n",
              "72023.0     140\n",
              "12023.0     114\n",
              "122022.0    113\n",
              "102023.0    108\n",
              "92022.0     107\n",
              "22022.0      96\n",
              "72022.0      96\n",
              "102022.0     93\n",
              "82022.0      90\n",
              "52023.0      87\n",
              "62023.0      84\n",
              "62022.0      82\n",
              "42022.0      82\n",
              "12022.0      82\n",
              "112022.0     81\n",
              "122021.0     71\n",
              "32022.0      69\n",
              "112021.0     65\n",
              "52022.0      59\n",
              "82021.0      56\n",
              "112023.0     53\n",
              "102021.0     49\n",
              "92021.0      45\n",
              "72021.0      39\n",
              "52021.0      36\n",
              "62021.0      35\n",
              "42021.0      33\n",
              "122023.0     27\n",
              "82024.0      26\n",
              "42023.0      25\n",
              "102024.0     24\n",
              "52024.0      22\n",
              "92024.0      19\n",
              "72024.0      18\n",
              "32021.0      18\n",
              "32024.0      16\n",
              "22024.0      12\n",
              "12021.0      12\n",
              "12024.0      11\n",
              "62024.0      11\n",
              "42024.0       6\n",
              "112024.0      5\n",
              "102020.0      3\n",
              "22021.0       3\n",
              "122024.0      1\n",
              "112020.0      1\n",
              "Name: card_expiry, dtype: int64"
            ]
          },
          "metadata": {
            "tags": []
          },
          "execution_count": 17
        }
      ]
    },
    {
      "cell_type": "code",
      "metadata": {
        "id": "iNJG4ATVH4Iy"
      },
      "source": [
        "df['card_expiry']= df['card_expiry'].fillna(df['card_expiry'].mean())"
      ],
      "execution_count": 18,
      "outputs": []
    },
    {
      "cell_type": "markdown",
      "metadata": {
        "id": "OLY20ZQ5K3IY"
      },
      "source": [
        "## Bank, Tier, Selfie_id_check Columns"
      ]
    },
    {
      "cell_type": "code",
      "metadata": {
        "colab": {
          "base_uri": "https://localhost:8080/"
        },
        "id": "krlrcgKqJj1Z",
        "outputId": "a4aa699e-1ccc-4b1c-dc6a-2884a6ace909"
      },
      "source": [
        "df['tier'].value_counts()"
      ],
      "execution_count": 19,
      "outputs": [
        {
          "output_type": "execute_result",
          "data": {
            "text/plain": [
              "Tier 1    1874\n",
              "Tier 2     406\n",
              "Tier 3     192\n",
              "Name: tier, dtype: int64"
            ]
          },
          "metadata": {
            "tags": []
          },
          "execution_count": 19
        }
      ]
    },
    {
      "cell_type": "code",
      "metadata": {
        "colab": {
          "base_uri": "https://localhost:8080/"
        },
        "id": "sCJfjrSNJ6Q9",
        "outputId": "b7e6d1ab-878c-4407-abef-5d81f375dfc5"
      },
      "source": [
        "df['selfie_id_check'].value_counts()"
      ],
      "execution_count": 20,
      "outputs": [
        {
          "output_type": "execute_result",
          "data": {
            "text/plain": [
              "Successful    1141\n",
              "Pending        817\n",
              "Failed         640\n",
              "Name: selfie_id_check, dtype: int64"
            ]
          },
          "metadata": {
            "tags": []
          },
          "execution_count": 20
        }
      ]
    },
    {
      "cell_type": "code",
      "metadata": {
        "colab": {
          "base_uri": "https://localhost:8080/"
        },
        "id": "VSby5Rv9Nfm2",
        "outputId": "3d706546-4dfd-4304-a18a-dd359cb13516"
      },
      "source": [
        "df['bank'].value_counts()"
      ],
      "execution_count": 21,
      "outputs": [
        {
          "output_type": "execute_result",
          "data": {
            "text/plain": [
              "Guaranty Trust Bank         774\n",
              "Access Bank                 462\n",
              "First Bank of Nigeria       371\n",
              "Zenith Bank                 360\n",
              "United Bank for Africa      314\n",
              "Union Bank of Nigeria        99\n",
              "Ecobank Nigeria              78\n",
              "First City Monument Bank     78\n",
              "Sterling Bank                76\n",
              "Stanbic IBTC Bank            74\n",
              "Polaris Bank                 73\n",
              "Fidelity Bank                60\n",
              "Access Bank (Diamond)        35\n",
              "Wema Bank                    29\n",
              "Keystone Bank                29\n",
              "Unity Bank                   16\n",
              "Jaiz Bank                     5\n",
              "Heritage Bank                 3\n",
              "Suntrust Bank                 2\n",
              "SunTrust Bank                 2\n",
              "Providus Bank                 1\n",
              "Name: bank, dtype: int64"
            ]
          },
          "metadata": {
            "tags": []
          },
          "execution_count": 21
        }
      ]
    },
    {
      "cell_type": "code",
      "metadata": {
        "id": "1MXJ03j_LEe7"
      },
      "source": [
        "val= ['bank', 'tier', 'selfie_id_check']\r\n",
        "for x in val:\r\n",
        "  df[x]= df[x].fillna(df[x].mode()[0])"
      ],
      "execution_count": 22,
      "outputs": []
    },
    {
      "cell_type": "markdown",
      "metadata": {
        "id": "NaH8iaR6NyZA"
      },
      "source": [
        "# Dropping Missing Values"
      ]
    },
    {
      "cell_type": "code",
      "metadata": {
        "id": "WOklehuAfNsC"
      },
      "source": [
        "#cols= ['gender', 'type_of_residence', 'address']"
      ],
      "execution_count": 23,
      "outputs": []
    },
    {
      "cell_type": "code",
      "metadata": {
        "id": "FMohi3ZgfUfA"
      },
      "source": [
        "#for u in cols:\r\n",
        "  #df[u]= df[u].fillna('others')"
      ],
      "execution_count": 24,
      "outputs": []
    },
    {
      "cell_type": "code",
      "metadata": {
        "id": "7L3pHJB_Nxgv"
      },
      "source": [
        "df= df.drop(['gender', 'type_of_residence', 'address', 'status_id', 'amount_due'], axis= 1)"
      ],
      "execution_count": 25,
      "outputs": []
    },
    {
      "cell_type": "code",
      "metadata": {
        "colab": {
          "base_uri": "https://localhost:8080/"
        },
        "id": "s333Uo70LZCA",
        "outputId": "4fe85cb5-2a94-44ea-a5c8-3b12975a3e46"
      },
      "source": [
        "df.isnull().sum()"
      ],
      "execution_count": 26,
      "outputs": [
        {
          "output_type": "execute_result",
          "data": {
            "text/plain": [
              "loan_amount                0\n",
              "interest_due               0\n",
              "tenor                      0\n",
              "interest_rate              0\n",
              "status                     0\n",
              "card_network               0\n",
              "card_expiry                0\n",
              "bank                       0\n",
              "phone_network              0\n",
              "tier                       0\n",
              "selfie_id_check            0\n",
              "marital_status             0\n",
              "no_of_dependent            0\n",
              "educational_attainment     0\n",
              "employment_status          0\n",
              "sector_of_employment       0\n",
              "monthly_net_income         0\n",
              "work_email_validated       0\n",
              "requested_amount           0\n",
              "purpose                    0\n",
              "proposed_payday            0\n",
              "credit_score               0\n",
              "location                   0\n",
              "date_of_birth_year         0\n",
              "date_of_birth_day          0\n",
              "date_of_birth_month        0\n",
              "date_of_birth_quarter      0\n",
              "work_start_date_year       0\n",
              "work_start_date_day        0\n",
              "work_start_date_month      0\n",
              "work_start_date_quarter    0\n",
              "dtype: int64"
            ]
          },
          "metadata": {
            "tags": []
          },
          "execution_count": 26
        }
      ]
    },
    {
      "cell_type": "markdown",
      "metadata": {
        "id": "fsqeVghyR_qQ"
      },
      "source": [
        "# Converting Categorical Column to Nummerical Columns with Label Encoder"
      ]
    },
    {
      "cell_type": "code",
      "metadata": {
        "id": "bLh-tIQuEu4x"
      },
      "source": [
        "col= ['tenor', 'card_network', 'bank', 'tier', 'selfie_id_check', 'marital_status','no_of_dependent', 'educational_attainment', 'employment_status', 'sector_of_employment', 'monthly_net_income', 'purpose', 'proposed_payday', 'location']"
      ],
      "execution_count": 27,
      "outputs": []
    },
    {
      "cell_type": "code",
      "metadata": {
        "id": "BZnx1FOORovh"
      },
      "source": [
        "for y in col:\r\n",
        "  df[y]= df[y].astype(str)"
      ],
      "execution_count": 28,
      "outputs": []
    },
    {
      "cell_type": "code",
      "metadata": {
        "id": "hJKJ7aD_QQgC"
      },
      "source": [
        "for y in col:\r\n",
        "  le= LabelEncoder()\r\n",
        "  df[y]= le.fit_transform(df[y])"
      ],
      "execution_count": 29,
      "outputs": []
    },
    {
      "cell_type": "markdown",
      "metadata": {
        "id": "J5N-Uqd9SOLK"
      },
      "source": [
        "# Splitting Df into Training and Testing Data"
      ]
    },
    {
      "cell_type": "code",
      "metadata": {
        "id": "1job018SrLp_"
      },
      "source": [
        "train1= df[df['status']== 'SETTLED']\r\n",
        "train2= df[df['status'] == 'PAST DUE']\r\n",
        "test= df[df['status'] == 'RUNNING']"
      ],
      "execution_count": 30,
      "outputs": []
    },
    {
      "cell_type": "code",
      "metadata": {
        "colab": {
          "base_uri": "https://localhost:8080/",
          "height": 211
        },
        "id": "Uxoap8CA4EvD",
        "outputId": "ca920194-b7c1-492d-b684-5245934dc353"
      },
      "source": [
        "test.head()"
      ],
      "execution_count": 31,
      "outputs": [
        {
          "output_type": "execute_result",
          "data": {
            "text/html": [
              "<div>\n",
              "<style scoped>\n",
              "    .dataframe tbody tr th:only-of-type {\n",
              "        vertical-align: middle;\n",
              "    }\n",
              "\n",
              "    .dataframe tbody tr th {\n",
              "        vertical-align: top;\n",
              "    }\n",
              "\n",
              "    .dataframe thead th {\n",
              "        text-align: right;\n",
              "    }\n",
              "</style>\n",
              "<table border=\"1\" class=\"dataframe\">\n",
              "  <thead>\n",
              "    <tr style=\"text-align: right;\">\n",
              "      <th></th>\n",
              "      <th>loan_amount</th>\n",
              "      <th>interest_due</th>\n",
              "      <th>tenor</th>\n",
              "      <th>interest_rate</th>\n",
              "      <th>status</th>\n",
              "      <th>card_network</th>\n",
              "      <th>card_expiry</th>\n",
              "      <th>bank</th>\n",
              "      <th>phone_network</th>\n",
              "      <th>tier</th>\n",
              "      <th>selfie_id_check</th>\n",
              "      <th>marital_status</th>\n",
              "      <th>no_of_dependent</th>\n",
              "      <th>educational_attainment</th>\n",
              "      <th>employment_status</th>\n",
              "      <th>sector_of_employment</th>\n",
              "      <th>monthly_net_income</th>\n",
              "      <th>work_email_validated</th>\n",
              "      <th>requested_amount</th>\n",
              "      <th>purpose</th>\n",
              "      <th>proposed_payday</th>\n",
              "      <th>credit_score</th>\n",
              "      <th>location</th>\n",
              "      <th>date_of_birth_year</th>\n",
              "      <th>date_of_birth_day</th>\n",
              "      <th>date_of_birth_month</th>\n",
              "      <th>date_of_birth_quarter</th>\n",
              "      <th>work_start_date_year</th>\n",
              "      <th>work_start_date_day</th>\n",
              "      <th>work_start_date_month</th>\n",
              "      <th>work_start_date_quarter</th>\n",
              "    </tr>\n",
              "  </thead>\n",
              "  <tbody>\n",
              "    <tr>\n",
              "      <th>0</th>\n",
              "      <td>3600.0</td>\n",
              "      <td>1277.64</td>\n",
              "      <td>10</td>\n",
              "      <td>35.49</td>\n",
              "      <td>RUNNING</td>\n",
              "      <td>0</td>\n",
              "      <td>102023.0</td>\n",
              "      <td>6</td>\n",
              "      <td>805</td>\n",
              "      <td>0</td>\n",
              "      <td>1</td>\n",
              "      <td>1</td>\n",
              "      <td>4</td>\n",
              "      <td>1</td>\n",
              "      <td>6</td>\n",
              "      <td>0</td>\n",
              "      <td>0</td>\n",
              "      <td>0</td>\n",
              "      <td>12000.0</td>\n",
              "      <td>1</td>\n",
              "      <td>19</td>\n",
              "      <td>63.04</td>\n",
              "      <td>0</td>\n",
              "      <td>3</td>\n",
              "      <td>25</td>\n",
              "      <td>7</td>\n",
              "      <td>3</td>\n",
              "      <td>4</td>\n",
              "      <td>7</td>\n",
              "      <td>10</td>\n",
              "      <td>4</td>\n",
              "    </tr>\n",
              "    <tr>\n",
              "      <th>5</th>\n",
              "      <td>5000.0</td>\n",
              "      <td>1000.00</td>\n",
              "      <td>19</td>\n",
              "      <td>19.21</td>\n",
              "      <td>RUNNING</td>\n",
              "      <td>0</td>\n",
              "      <td>92022.0</td>\n",
              "      <td>17</td>\n",
              "      <td>813</td>\n",
              "      <td>0</td>\n",
              "      <td>2</td>\n",
              "      <td>3</td>\n",
              "      <td>1</td>\n",
              "      <td>0</td>\n",
              "      <td>1</td>\n",
              "      <td>13</td>\n",
              "      <td>2</td>\n",
              "      <td>0</td>\n",
              "      <td>5000.0</td>\n",
              "      <td>1</td>\n",
              "      <td>21</td>\n",
              "      <td>57.87</td>\n",
              "      <td>0</td>\n",
              "      <td>1</td>\n",
              "      <td>8</td>\n",
              "      <td>3</td>\n",
              "      <td>1</td>\n",
              "      <td>1</td>\n",
              "      <td>1</td>\n",
              "      <td>1</td>\n",
              "      <td>1</td>\n",
              "    </tr>\n",
              "    <tr>\n",
              "      <th>10</th>\n",
              "      <td>5000.0</td>\n",
              "      <td>1000.00</td>\n",
              "      <td>19</td>\n",
              "      <td>18.82</td>\n",
              "      <td>RUNNING</td>\n",
              "      <td>1</td>\n",
              "      <td>122022.0</td>\n",
              "      <td>0</td>\n",
              "      <td>802</td>\n",
              "      <td>0</td>\n",
              "      <td>1</td>\n",
              "      <td>1</td>\n",
              "      <td>13</td>\n",
              "      <td>4</td>\n",
              "      <td>6</td>\n",
              "      <td>17</td>\n",
              "      <td>0</td>\n",
              "      <td>0</td>\n",
              "      <td>50000.0</td>\n",
              "      <td>1</td>\n",
              "      <td>0</td>\n",
              "      <td>61.85</td>\n",
              "      <td>0</td>\n",
              "      <td>2</td>\n",
              "      <td>7</td>\n",
              "      <td>4</td>\n",
              "      <td>2</td>\n",
              "      <td>1</td>\n",
              "      <td>1</td>\n",
              "      <td>1</td>\n",
              "      <td>1</td>\n",
              "    </tr>\n",
              "    <tr>\n",
              "      <th>11</th>\n",
              "      <td>5000.0</td>\n",
              "      <td>1000.00</td>\n",
              "      <td>19</td>\n",
              "      <td>18.80</td>\n",
              "      <td>RUNNING</td>\n",
              "      <td>0</td>\n",
              "      <td>32023.0</td>\n",
              "      <td>3</td>\n",
              "      <td>908</td>\n",
              "      <td>0</td>\n",
              "      <td>1</td>\n",
              "      <td>1</td>\n",
              "      <td>1</td>\n",
              "      <td>4</td>\n",
              "      <td>6</td>\n",
              "      <td>5</td>\n",
              "      <td>2</td>\n",
              "      <td>0</td>\n",
              "      <td>7000.0</td>\n",
              "      <td>1</td>\n",
              "      <td>21</td>\n",
              "      <td>62.00</td>\n",
              "      <td>0</td>\n",
              "      <td>4</td>\n",
              "      <td>17</td>\n",
              "      <td>10</td>\n",
              "      <td>4</td>\n",
              "      <td>1</td>\n",
              "      <td>1</td>\n",
              "      <td>1</td>\n",
              "      <td>1</td>\n",
              "    </tr>\n",
              "    <tr>\n",
              "      <th>17</th>\n",
              "      <td>2500.0</td>\n",
              "      <td>1000.00</td>\n",
              "      <td>4</td>\n",
              "      <td>18.57</td>\n",
              "      <td>RUNNING</td>\n",
              "      <td>0</td>\n",
              "      <td>12023.0</td>\n",
              "      <td>4</td>\n",
              "      <td>706</td>\n",
              "      <td>0</td>\n",
              "      <td>2</td>\n",
              "      <td>1</td>\n",
              "      <td>4</td>\n",
              "      <td>0</td>\n",
              "      <td>6</td>\n",
              "      <td>0</td>\n",
              "      <td>5</td>\n",
              "      <td>0</td>\n",
              "      <td>10000.0</td>\n",
              "      <td>1</td>\n",
              "      <td>2</td>\n",
              "      <td>64.26</td>\n",
              "      <td>0</td>\n",
              "      <td>4</td>\n",
              "      <td>20</td>\n",
              "      <td>11</td>\n",
              "      <td>4</td>\n",
              "      <td>1</td>\n",
              "      <td>1</td>\n",
              "      <td>1</td>\n",
              "      <td>1</td>\n",
              "    </tr>\n",
              "  </tbody>\n",
              "</table>\n",
              "</div>"
            ],
            "text/plain": [
              "    loan_amount  interest_due  ...  work_start_date_month  work_start_date_quarter\n",
              "0        3600.0       1277.64  ...                     10                        4\n",
              "5        5000.0       1000.00  ...                      1                        1\n",
              "10       5000.0       1000.00  ...                      1                        1\n",
              "11       5000.0       1000.00  ...                      1                        1\n",
              "17       2500.0       1000.00  ...                      1                        1\n",
              "\n",
              "[5 rows x 31 columns]"
            ]
          },
          "metadata": {
            "tags": []
          },
          "execution_count": 31
        }
      ]
    },
    {
      "cell_type": "code",
      "metadata": {
        "colab": {
          "base_uri": "https://localhost:8080/"
        },
        "id": "p7kJfE2itx41",
        "outputId": "9cde1034-3d43-4b18-b190-c12d8154c8ba"
      },
      "source": [
        "print(train1.shape)\r\n",
        "print(train2.shape)\r\n",
        "frame= [train1, train2]"
      ],
      "execution_count": 32,
      "outputs": [
        {
          "output_type": "stream",
          "text": [
            "(1124, 31)\n",
            "(647, 31)\n"
          ],
          "name": "stdout"
        }
      ]
    },
    {
      "cell_type": "code",
      "metadata": {
        "colab": {
          "base_uri": "https://localhost:8080/"
        },
        "id": "wRF_QuuNuKm0",
        "outputId": "29208552-3e76-4424-e834-87301c3d8924"
      },
      "source": [
        "train= pd.concat(frame)\r\n",
        "train['status'].value_counts()"
      ],
      "execution_count": 33,
      "outputs": [
        {
          "output_type": "execute_result",
          "data": {
            "text/plain": [
              "SETTLED     1124\n",
              "PAST DUE     647\n",
              "Name: status, dtype: int64"
            ]
          },
          "metadata": {
            "tags": []
          },
          "execution_count": 33
        }
      ]
    },
    {
      "cell_type": "code",
      "metadata": {
        "colab": {
          "base_uri": "https://localhost:8080/",
          "height": 211
        },
        "id": "Jb_be4bm38VL",
        "outputId": "45d9b6ce-d7ae-4c61-c5d7-ce683329aa57"
      },
      "source": [
        "train.head()"
      ],
      "execution_count": 34,
      "outputs": [
        {
          "output_type": "execute_result",
          "data": {
            "text/html": [
              "<div>\n",
              "<style scoped>\n",
              "    .dataframe tbody tr th:only-of-type {\n",
              "        vertical-align: middle;\n",
              "    }\n",
              "\n",
              "    .dataframe tbody tr th {\n",
              "        vertical-align: top;\n",
              "    }\n",
              "\n",
              "    .dataframe thead th {\n",
              "        text-align: right;\n",
              "    }\n",
              "</style>\n",
              "<table border=\"1\" class=\"dataframe\">\n",
              "  <thead>\n",
              "    <tr style=\"text-align: right;\">\n",
              "      <th></th>\n",
              "      <th>loan_amount</th>\n",
              "      <th>interest_due</th>\n",
              "      <th>tenor</th>\n",
              "      <th>interest_rate</th>\n",
              "      <th>status</th>\n",
              "      <th>card_network</th>\n",
              "      <th>card_expiry</th>\n",
              "      <th>bank</th>\n",
              "      <th>phone_network</th>\n",
              "      <th>tier</th>\n",
              "      <th>selfie_id_check</th>\n",
              "      <th>marital_status</th>\n",
              "      <th>no_of_dependent</th>\n",
              "      <th>educational_attainment</th>\n",
              "      <th>employment_status</th>\n",
              "      <th>sector_of_employment</th>\n",
              "      <th>monthly_net_income</th>\n",
              "      <th>work_email_validated</th>\n",
              "      <th>requested_amount</th>\n",
              "      <th>purpose</th>\n",
              "      <th>proposed_payday</th>\n",
              "      <th>credit_score</th>\n",
              "      <th>location</th>\n",
              "      <th>date_of_birth_year</th>\n",
              "      <th>date_of_birth_day</th>\n",
              "      <th>date_of_birth_month</th>\n",
              "      <th>date_of_birth_quarter</th>\n",
              "      <th>work_start_date_year</th>\n",
              "      <th>work_start_date_day</th>\n",
              "      <th>work_start_date_month</th>\n",
              "      <th>work_start_date_quarter</th>\n",
              "    </tr>\n",
              "  </thead>\n",
              "  <tbody>\n",
              "    <tr>\n",
              "      <th>1</th>\n",
              "      <td>10000.0</td>\n",
              "      <td>500.00</td>\n",
              "      <td>0</td>\n",
              "      <td>5.00</td>\n",
              "      <td>SETTLED</td>\n",
              "      <td>1</td>\n",
              "      <td>68122.348861</td>\n",
              "      <td>6</td>\n",
              "      <td>813</td>\n",
              "      <td>0</td>\n",
              "      <td>2</td>\n",
              "      <td>1</td>\n",
              "      <td>7</td>\n",
              "      <td>0</td>\n",
              "      <td>6</td>\n",
              "      <td>5</td>\n",
              "      <td>2</td>\n",
              "      <td>0</td>\n",
              "      <td>15000.0</td>\n",
              "      <td>5</td>\n",
              "      <td>19</td>\n",
              "      <td>65.22</td>\n",
              "      <td>0</td>\n",
              "      <td>4</td>\n",
              "      <td>14</td>\n",
              "      <td>11</td>\n",
              "      <td>4</td>\n",
              "      <td>2</td>\n",
              "      <td>1</td>\n",
              "      <td>6</td>\n",
              "      <td>2</td>\n",
              "    </tr>\n",
              "    <tr>\n",
              "      <th>2</th>\n",
              "      <td>10000.0</td>\n",
              "      <td>500.00</td>\n",
              "      <td>0</td>\n",
              "      <td>5.00</td>\n",
              "      <td>SETTLED</td>\n",
              "      <td>0</td>\n",
              "      <td>92023.000000</td>\n",
              "      <td>17</td>\n",
              "      <td>813</td>\n",
              "      <td>0</td>\n",
              "      <td>2</td>\n",
              "      <td>1</td>\n",
              "      <td>7</td>\n",
              "      <td>0</td>\n",
              "      <td>6</td>\n",
              "      <td>5</td>\n",
              "      <td>2</td>\n",
              "      <td>0</td>\n",
              "      <td>15000.0</td>\n",
              "      <td>5</td>\n",
              "      <td>19</td>\n",
              "      <td>65.22</td>\n",
              "      <td>0</td>\n",
              "      <td>4</td>\n",
              "      <td>14</td>\n",
              "      <td>11</td>\n",
              "      <td>4</td>\n",
              "      <td>2</td>\n",
              "      <td>1</td>\n",
              "      <td>6</td>\n",
              "      <td>2</td>\n",
              "    </tr>\n",
              "    <tr>\n",
              "      <th>4</th>\n",
              "      <td>5000.0</td>\n",
              "      <td>424.11</td>\n",
              "      <td>19</td>\n",
              "      <td>8.60</td>\n",
              "      <td>SETTLED</td>\n",
              "      <td>0</td>\n",
              "      <td>42022.000000</td>\n",
              "      <td>10</td>\n",
              "      <td>803</td>\n",
              "      <td>1</td>\n",
              "      <td>2</td>\n",
              "      <td>1</td>\n",
              "      <td>4</td>\n",
              "      <td>0</td>\n",
              "      <td>6</td>\n",
              "      <td>5</td>\n",
              "      <td>2</td>\n",
              "      <td>0</td>\n",
              "      <td>20000.0</td>\n",
              "      <td>3</td>\n",
              "      <td>19</td>\n",
              "      <td>68.67</td>\n",
              "      <td>0</td>\n",
              "      <td>1</td>\n",
              "      <td>20</td>\n",
              "      <td>1</td>\n",
              "      <td>1</td>\n",
              "      <td>1</td>\n",
              "      <td>1</td>\n",
              "      <td>1</td>\n",
              "      <td>1</td>\n",
              "    </tr>\n",
              "    <tr>\n",
              "      <th>6</th>\n",
              "      <td>5000.0</td>\n",
              "      <td>1000.00</td>\n",
              "      <td>19</td>\n",
              "      <td>11.40</td>\n",
              "      <td>SETTLED</td>\n",
              "      <td>0</td>\n",
              "      <td>42021.000000</td>\n",
              "      <td>4</td>\n",
              "      <td>703</td>\n",
              "      <td>0</td>\n",
              "      <td>1</td>\n",
              "      <td>1</td>\n",
              "      <td>9</td>\n",
              "      <td>3</td>\n",
              "      <td>6</td>\n",
              "      <td>5</td>\n",
              "      <td>2</td>\n",
              "      <td>0</td>\n",
              "      <td>20000.0</td>\n",
              "      <td>1</td>\n",
              "      <td>0</td>\n",
              "      <td>58.01</td>\n",
              "      <td>0</td>\n",
              "      <td>4</td>\n",
              "      <td>5</td>\n",
              "      <td>10</td>\n",
              "      <td>4</td>\n",
              "      <td>1</td>\n",
              "      <td>1</td>\n",
              "      <td>1</td>\n",
              "      <td>1</td>\n",
              "    </tr>\n",
              "    <tr>\n",
              "      <th>8</th>\n",
              "      <td>5000.0</td>\n",
              "      <td>1000.00</td>\n",
              "      <td>19</td>\n",
              "      <td>11.38</td>\n",
              "      <td>SETTLED</td>\n",
              "      <td>1</td>\n",
              "      <td>72023.000000</td>\n",
              "      <td>17</td>\n",
              "      <td>814</td>\n",
              "      <td>0</td>\n",
              "      <td>0</td>\n",
              "      <td>3</td>\n",
              "      <td>1</td>\n",
              "      <td>4</td>\n",
              "      <td>6</td>\n",
              "      <td>12</td>\n",
              "      <td>6</td>\n",
              "      <td>0</td>\n",
              "      <td>10000.0</td>\n",
              "      <td>1</td>\n",
              "      <td>19</td>\n",
              "      <td>60.67</td>\n",
              "      <td>0</td>\n",
              "      <td>4</td>\n",
              "      <td>21</td>\n",
              "      <td>10</td>\n",
              "      <td>4</td>\n",
              "      <td>1</td>\n",
              "      <td>1</td>\n",
              "      <td>1</td>\n",
              "      <td>1</td>\n",
              "    </tr>\n",
              "  </tbody>\n",
              "</table>\n",
              "</div>"
            ],
            "text/plain": [
              "   loan_amount  interest_due  ...  work_start_date_month  work_start_date_quarter\n",
              "1      10000.0        500.00  ...                      6                        2\n",
              "2      10000.0        500.00  ...                      6                        2\n",
              "4       5000.0        424.11  ...                      1                        1\n",
              "6       5000.0       1000.00  ...                      1                        1\n",
              "8       5000.0       1000.00  ...                      1                        1\n",
              "\n",
              "[5 rows x 31 columns]"
            ]
          },
          "metadata": {
            "tags": []
          },
          "execution_count": 34
        }
      ]
    },
    {
      "cell_type": "code",
      "metadata": {
        "colab": {
          "base_uri": "https://localhost:8080/"
        },
        "id": "qTDut1q0TJmX",
        "outputId": "5216692e-353e-42c2-d9fe-e4f1e558d8a2"
      },
      "source": [
        "train['status'].value_counts()"
      ],
      "execution_count": 35,
      "outputs": [
        {
          "output_type": "execute_result",
          "data": {
            "text/plain": [
              "SETTLED     1124\n",
              "PAST DUE     647\n",
              "Name: status, dtype: int64"
            ]
          },
          "metadata": {
            "tags": []
          },
          "execution_count": 35
        }
      ]
    },
    {
      "cell_type": "code",
      "metadata": {
        "id": "4nRZVMP-XSve"
      },
      "source": [
        "target_map = {\r\n",
        "    'SETTLED': 1,\r\n",
        "    'PAST DUE': 0}\r\n",
        "\r\n",
        "train.status.replace(target_map, inplace = True)"
      ],
      "execution_count": 36,
      "outputs": []
    },
    {
      "cell_type": "code",
      "metadata": {
        "colab": {
          "base_uri": "https://localhost:8080/"
        },
        "id": "hlopjwvBYzg_",
        "outputId": "0e7bfcec-890d-4629-a73a-d12dd5ad8876"
      },
      "source": [
        "train.status.value_counts()"
      ],
      "execution_count": 37,
      "outputs": [
        {
          "output_type": "execute_result",
          "data": {
            "text/plain": [
              "1    1124\n",
              "0     647\n",
              "Name: status, dtype: int64"
            ]
          },
          "metadata": {
            "tags": []
          },
          "execution_count": 37
        }
      ]
    },
    {
      "cell_type": "code",
      "metadata": {
        "colab": {
          "base_uri": "https://localhost:8080/"
        },
        "id": "E0qT8ywUZiIY",
        "outputId": "0baec147-777a-4a8c-c07c-845ecd7e9e48"
      },
      "source": [
        "corr_matrix = train.corr()\r\n",
        "print(corr_matrix[\"status\"].sort_values(ascending=True))"
      ],
      "execution_count": 38,
      "outputs": [
        {
          "output_type": "stream",
          "text": [
            "work_start_date_day       -0.071369\n",
            "interest_rate             -0.051115\n",
            "phone_network             -0.046993\n",
            "interest_due              -0.045204\n",
            "proposed_payday           -0.033436\n",
            "bank                      -0.033017\n",
            "work_start_date_month     -0.029992\n",
            "work_start_date_quarter   -0.029162\n",
            "work_start_date_year      -0.029162\n",
            "location                  -0.021491\n",
            "work_email_validated      -0.013492\n",
            "loan_amount               -0.010355\n",
            "card_expiry               -0.007134\n",
            "educational_attainment     0.003048\n",
            "employment_status          0.006971\n",
            "date_of_birth_quarter      0.011488\n",
            "date_of_birth_year         0.011488\n",
            "sector_of_employment       0.014268\n",
            "date_of_birth_month        0.015224\n",
            "no_of_dependent            0.016954\n",
            "requested_amount           0.018237\n",
            "monthly_net_income         0.031925\n",
            "date_of_birth_day          0.043302\n",
            "credit_score               0.052127\n",
            "card_network               0.057595\n",
            "marital_status             0.066882\n",
            "tenor                      0.071935\n",
            "selfie_id_check            0.076164\n",
            "purpose                    0.081999\n",
            "tier                       0.321445\n",
            "status                     1.000000\n",
            "Name: status, dtype: float64\n"
          ],
          "name": "stdout"
        }
      ]
    },
    {
      "cell_type": "markdown",
      "metadata": {
        "id": "27JT-Gp5Uijk"
      },
      "source": [
        "# Modeling And Algorithm Selection"
      ]
    },
    {
      "cell_type": "code",
      "metadata": {
        "id": "J7OVmLNv_kay"
      },
      "source": [
        "X= train.drop(['status'], axis= 1)\r\n",
        "y= train['status']"
      ],
      "execution_count": 39,
      "outputs": []
    },
    {
      "cell_type": "code",
      "metadata": {
        "id": "m-r6WlAySfmI"
      },
      "source": [
        "train_x, val_x, train_y, val_y= train_test_split(X, y, test_size= 0.2, random_state= 0, stratify= y)"
      ],
      "execution_count": 40,
      "outputs": []
    },
    {
      "cell_type": "code",
      "metadata": {
        "colab": {
          "base_uri": "https://localhost:8080/"
        },
        "id": "KJ-t_3n2UBSB",
        "outputId": "5784ec55-a403-426a-d217-cf5c915842c7"
      },
      "source": [
        "lr= LogisticRegression()\r\n",
        "lr.fit(train_x, train_y)\r\n",
        "preds= lr.predict(val_x)\r\n",
        "print('ACC SCR:', accuracy_score(preds, val_y))"
      ],
      "execution_count": 41,
      "outputs": [
        {
          "output_type": "stream",
          "text": [
            "ACC SCR: 0.6338028169014085\n"
          ],
          "name": "stdout"
        }
      ]
    },
    {
      "cell_type": "code",
      "metadata": {
        "id": "A8O_cmVPazpP"
      },
      "source": [
        ""
      ],
      "execution_count": 41,
      "outputs": []
    },
    {
      "cell_type": "markdown",
      "metadata": {
        "id": "FAjeSNTcfrPY"
      },
      "source": [
        "# Cross_Val_Score For Validation"
      ]
    },
    {
      "cell_type": "code",
      "metadata": {
        "id": "CLzygqh_WoJR",
        "colab": {
          "base_uri": "https://localhost:8080/"
        },
        "outputId": "36d760e1-9a97-49b2-f7a7-70bef87cd41a"
      },
      "source": [
        "CV= cross_val_score(lr, X, y, cv= 5)"
      ],
      "execution_count": 42,
      "outputs": [
        {
          "output_type": "stream",
          "text": [
            "/usr/local/lib/python3.6/dist-packages/sklearn/linear_model/_logistic.py:940: ConvergenceWarning: lbfgs failed to converge (status=2):\n",
            "ABNORMAL_TERMINATION_IN_LNSRCH.\n",
            "\n",
            "Increase the number of iterations (max_iter) or scale the data as shown in:\n",
            "    https://scikit-learn.org/stable/modules/preprocessing.html\n",
            "Please also refer to the documentation for alternative solver options:\n",
            "    https://scikit-learn.org/stable/modules/linear_model.html#logistic-regression\n",
            "  extra_warning_msg=_LOGISTIC_SOLVER_CONVERGENCE_MSG)\n",
            "/usr/local/lib/python3.6/dist-packages/sklearn/linear_model/_logistic.py:940: ConvergenceWarning: lbfgs failed to converge (status=2):\n",
            "ABNORMAL_TERMINATION_IN_LNSRCH.\n",
            "\n",
            "Increase the number of iterations (max_iter) or scale the data as shown in:\n",
            "    https://scikit-learn.org/stable/modules/preprocessing.html\n",
            "Please also refer to the documentation for alternative solver options:\n",
            "    https://scikit-learn.org/stable/modules/linear_model.html#logistic-regression\n",
            "  extra_warning_msg=_LOGISTIC_SOLVER_CONVERGENCE_MSG)\n",
            "/usr/local/lib/python3.6/dist-packages/sklearn/linear_model/_logistic.py:940: ConvergenceWarning: lbfgs failed to converge (status=2):\n",
            "ABNORMAL_TERMINATION_IN_LNSRCH.\n",
            "\n",
            "Increase the number of iterations (max_iter) or scale the data as shown in:\n",
            "    https://scikit-learn.org/stable/modules/preprocessing.html\n",
            "Please also refer to the documentation for alternative solver options:\n",
            "    https://scikit-learn.org/stable/modules/linear_model.html#logistic-regression\n",
            "  extra_warning_msg=_LOGISTIC_SOLVER_CONVERGENCE_MSG)\n",
            "/usr/local/lib/python3.6/dist-packages/sklearn/linear_model/_logistic.py:940: ConvergenceWarning: lbfgs failed to converge (status=2):\n",
            "ABNORMAL_TERMINATION_IN_LNSRCH.\n",
            "\n",
            "Increase the number of iterations (max_iter) or scale the data as shown in:\n",
            "    https://scikit-learn.org/stable/modules/preprocessing.html\n",
            "Please also refer to the documentation for alternative solver options:\n",
            "    https://scikit-learn.org/stable/modules/linear_model.html#logistic-regression\n",
            "  extra_warning_msg=_LOGISTIC_SOLVER_CONVERGENCE_MSG)\n"
          ],
          "name": "stderr"
        }
      ]
    },
    {
      "cell_type": "code",
      "metadata": {
        "colab": {
          "base_uri": "https://localhost:8080/"
        },
        "id": "VfH8eGlCbCT-",
        "outputId": "e6bdda92-4969-4650-9172-cabf88fc513a"
      },
      "source": [
        "print(CV)\r\n",
        "print(CV.mean())"
      ],
      "execution_count": 43,
      "outputs": [
        {
          "output_type": "stream",
          "text": [
            "[0.36619718 0.36440678 0.63559322 0.36440678 0.36723164]\n",
            "0.4195671202355375\n"
          ],
          "name": "stdout"
        }
      ]
    },
    {
      "cell_type": "code",
      "metadata": {
        "colab": {
          "base_uri": "https://localhost:8080/"
        },
        "id": "Pz1X0ivOgaLJ",
        "outputId": "d79e43fc-cd47-4ae7-fb78-435d6f0e9d78"
      },
      "source": [
        "print('LR REPORT:', classification_report(preds, val_y))"
      ],
      "execution_count": 44,
      "outputs": [
        {
          "output_type": "stream",
          "text": [
            "LR REPORT:               precision    recall  f1-score   support\n",
            "\n",
            "           0       0.00      0.00      0.00         0\n",
            "           1       1.00      0.63      0.78       355\n",
            "\n",
            "    accuracy                           0.63       355\n",
            "   macro avg       0.50      0.32      0.39       355\n",
            "weighted avg       1.00      0.63      0.78       355\n",
            "\n"
          ],
          "name": "stdout"
        },
        {
          "output_type": "stream",
          "text": [
            "/usr/local/lib/python3.6/dist-packages/sklearn/metrics/_classification.py:1272: UndefinedMetricWarning: Recall and F-score are ill-defined and being set to 0.0 in labels with no true samples. Use `zero_division` parameter to control this behavior.\n",
            "  _warn_prf(average, modifier, msg_start, len(result))\n"
          ],
          "name": "stderr"
        }
      ]
    },
    {
      "cell_type": "markdown",
      "metadata": {
        "id": "GZICijoPmNbw"
      },
      "source": [
        "# RandomForestClassifier\r\n",
        "# AdaBoostClassifier\r\n",
        "# Gradient Boosting Classifier"
      ]
    },
    {
      "cell_type": "code",
      "metadata": {
        "colab": {
          "base_uri": "https://localhost:8080/"
        },
        "id": "SaPpPAcNVT5T",
        "outputId": "45f0408a-88bc-440e-a421-8592289ca0d2"
      },
      "source": [
        "rf= RandomForestClassifier()\r\n",
        "rf.fit(train_x, train_y)\r\n",
        "pred= rf.predict(val_x)\r\n",
        "print('ACC SCR:', accuracy_score(pred, val_y))"
      ],
      "execution_count": 45,
      "outputs": [
        {
          "output_type": "stream",
          "text": [
            "ACC SCR: 0.6901408450704225\n"
          ],
          "name": "stdout"
        }
      ]
    },
    {
      "cell_type": "code",
      "metadata": {
        "colab": {
          "base_uri": "https://localhost:8080/"
        },
        "id": "EDTmoKOxVToW",
        "outputId": "9dbe070c-a48a-4f17-82df-52d42c3fda17"
      },
      "source": [
        "ab= AdaBoostClassifier()\r\n",
        "ab.fit(train_x, train_y)\r\n",
        "pred= ab.predict(val_x)\r\n",
        "print('ACC SCR:', accuracy_score(pred, val_y))"
      ],
      "execution_count": 46,
      "outputs": [
        {
          "output_type": "stream",
          "text": [
            "ACC SCR: 0.6816901408450704\n"
          ],
          "name": "stdout"
        }
      ]
    },
    {
      "cell_type": "code",
      "metadata": {
        "colab": {
          "base_uri": "https://localhost:8080/"
        },
        "id": "f-g-BLliVz8z",
        "outputId": "e050a60c-135a-43d2-db9d-7c14bfb6c938"
      },
      "source": [
        "gb= GradientBoostingClassifier()\r\n",
        "gb.fit(train_x, train_y)\r\n",
        "pred= gb.predict(val_x)\r\n",
        "print('ACC SCR:', accuracy_score(pred, val_y))"
      ],
      "execution_count": 47,
      "outputs": [
        {
          "output_type": "stream",
          "text": [
            "ACC SCR: 0.7070422535211267\n"
          ],
          "name": "stdout"
        }
      ]
    },
    {
      "cell_type": "code",
      "metadata": {
        "colab": {
          "base_uri": "https://localhost:8080/"
        },
        "id": "hp7rTXxqtVG5",
        "outputId": "a9ef3118-5b48-4d76-8b8a-25e4e7221988"
      },
      "source": [
        "rgf= RGFClassifier()\r\n",
        "rgf.fit(train_x, train_y)\r\n",
        "predict= rgf.predict(val_x)\r\n",
        "print('ACC SCR:', accuracy_score(predict, val_y))"
      ],
      "execution_count": 48,
      "outputs": [
        {
          "output_type": "stream",
          "text": [
            "ACC SCR: 0.6845070422535211\n"
          ],
          "name": "stdout"
        }
      ]
    },
    {
      "cell_type": "code",
      "metadata": {
        "colab": {
          "base_uri": "https://localhost:8080/"
        },
        "id": "Yc9Y2S_KWDcv",
        "outputId": "427fecb1-c791-4286-be69-69465032427b"
      },
      "source": [
        "test.shape"
      ],
      "execution_count": 49,
      "outputs": [
        {
          "output_type": "execute_result",
          "data": {
            "text/plain": [
              "(1210, 31)"
            ]
          },
          "metadata": {
            "tags": []
          },
          "execution_count": 49
        }
      ]
    },
    {
      "cell_type": "code",
      "metadata": {
        "colab": {
          "base_uri": "https://localhost:8080/"
        },
        "id": "hIhQULQpbQtE",
        "outputId": "97aaa377-c7c4-40da-f7db-15e092d26e0c"
      },
      "source": [
        "print('REPORT:', classification_report(pred, val_y))"
      ],
      "execution_count": 50,
      "outputs": [
        {
          "output_type": "stream",
          "text": [
            "REPORT:               precision    recall  f1-score   support\n",
            "\n",
            "           0       0.55      0.61      0.58       116\n",
            "           1       0.80      0.75      0.78       239\n",
            "\n",
            "    accuracy                           0.71       355\n",
            "   macro avg       0.67      0.68      0.68       355\n",
            "weighted avg       0.72      0.71      0.71       355\n",
            "\n"
          ],
          "name": "stdout"
        }
      ]
    },
    {
      "cell_type": "markdown",
      "metadata": {
        "id": "r0I_DScrbxwl"
      },
      "source": [
        "# Predicting On The Test Data"
      ]
    },
    {
      "cell_type": "code",
      "metadata": {
        "colab": {
          "base_uri": "https://localhost:8080/",
          "height": 153
        },
        "id": "sPdcEXkcb6Vj",
        "outputId": "f940183a-4b7d-4a57-9972-0fbf8dd5befe"
      },
      "source": [
        "test.head(3)"
      ],
      "execution_count": 51,
      "outputs": [
        {
          "output_type": "execute_result",
          "data": {
            "text/html": [
              "<div>\n",
              "<style scoped>\n",
              "    .dataframe tbody tr th:only-of-type {\n",
              "        vertical-align: middle;\n",
              "    }\n",
              "\n",
              "    .dataframe tbody tr th {\n",
              "        vertical-align: top;\n",
              "    }\n",
              "\n",
              "    .dataframe thead th {\n",
              "        text-align: right;\n",
              "    }\n",
              "</style>\n",
              "<table border=\"1\" class=\"dataframe\">\n",
              "  <thead>\n",
              "    <tr style=\"text-align: right;\">\n",
              "      <th></th>\n",
              "      <th>loan_amount</th>\n",
              "      <th>interest_due</th>\n",
              "      <th>tenor</th>\n",
              "      <th>interest_rate</th>\n",
              "      <th>status</th>\n",
              "      <th>card_network</th>\n",
              "      <th>card_expiry</th>\n",
              "      <th>bank</th>\n",
              "      <th>phone_network</th>\n",
              "      <th>tier</th>\n",
              "      <th>selfie_id_check</th>\n",
              "      <th>marital_status</th>\n",
              "      <th>no_of_dependent</th>\n",
              "      <th>educational_attainment</th>\n",
              "      <th>employment_status</th>\n",
              "      <th>sector_of_employment</th>\n",
              "      <th>monthly_net_income</th>\n",
              "      <th>work_email_validated</th>\n",
              "      <th>requested_amount</th>\n",
              "      <th>purpose</th>\n",
              "      <th>proposed_payday</th>\n",
              "      <th>credit_score</th>\n",
              "      <th>location</th>\n",
              "      <th>date_of_birth_year</th>\n",
              "      <th>date_of_birth_day</th>\n",
              "      <th>date_of_birth_month</th>\n",
              "      <th>date_of_birth_quarter</th>\n",
              "      <th>work_start_date_year</th>\n",
              "      <th>work_start_date_day</th>\n",
              "      <th>work_start_date_month</th>\n",
              "      <th>work_start_date_quarter</th>\n",
              "    </tr>\n",
              "  </thead>\n",
              "  <tbody>\n",
              "    <tr>\n",
              "      <th>0</th>\n",
              "      <td>3600.0</td>\n",
              "      <td>1277.64</td>\n",
              "      <td>10</td>\n",
              "      <td>35.49</td>\n",
              "      <td>RUNNING</td>\n",
              "      <td>0</td>\n",
              "      <td>102023.0</td>\n",
              "      <td>6</td>\n",
              "      <td>805</td>\n",
              "      <td>0</td>\n",
              "      <td>1</td>\n",
              "      <td>1</td>\n",
              "      <td>4</td>\n",
              "      <td>1</td>\n",
              "      <td>6</td>\n",
              "      <td>0</td>\n",
              "      <td>0</td>\n",
              "      <td>0</td>\n",
              "      <td>12000.0</td>\n",
              "      <td>1</td>\n",
              "      <td>19</td>\n",
              "      <td>63.04</td>\n",
              "      <td>0</td>\n",
              "      <td>3</td>\n",
              "      <td>25</td>\n",
              "      <td>7</td>\n",
              "      <td>3</td>\n",
              "      <td>4</td>\n",
              "      <td>7</td>\n",
              "      <td>10</td>\n",
              "      <td>4</td>\n",
              "    </tr>\n",
              "    <tr>\n",
              "      <th>5</th>\n",
              "      <td>5000.0</td>\n",
              "      <td>1000.00</td>\n",
              "      <td>19</td>\n",
              "      <td>19.21</td>\n",
              "      <td>RUNNING</td>\n",
              "      <td>0</td>\n",
              "      <td>92022.0</td>\n",
              "      <td>17</td>\n",
              "      <td>813</td>\n",
              "      <td>0</td>\n",
              "      <td>2</td>\n",
              "      <td>3</td>\n",
              "      <td>1</td>\n",
              "      <td>0</td>\n",
              "      <td>1</td>\n",
              "      <td>13</td>\n",
              "      <td>2</td>\n",
              "      <td>0</td>\n",
              "      <td>5000.0</td>\n",
              "      <td>1</td>\n",
              "      <td>21</td>\n",
              "      <td>57.87</td>\n",
              "      <td>0</td>\n",
              "      <td>1</td>\n",
              "      <td>8</td>\n",
              "      <td>3</td>\n",
              "      <td>1</td>\n",
              "      <td>1</td>\n",
              "      <td>1</td>\n",
              "      <td>1</td>\n",
              "      <td>1</td>\n",
              "    </tr>\n",
              "    <tr>\n",
              "      <th>10</th>\n",
              "      <td>5000.0</td>\n",
              "      <td>1000.00</td>\n",
              "      <td>19</td>\n",
              "      <td>18.82</td>\n",
              "      <td>RUNNING</td>\n",
              "      <td>1</td>\n",
              "      <td>122022.0</td>\n",
              "      <td>0</td>\n",
              "      <td>802</td>\n",
              "      <td>0</td>\n",
              "      <td>1</td>\n",
              "      <td>1</td>\n",
              "      <td>13</td>\n",
              "      <td>4</td>\n",
              "      <td>6</td>\n",
              "      <td>17</td>\n",
              "      <td>0</td>\n",
              "      <td>0</td>\n",
              "      <td>50000.0</td>\n",
              "      <td>1</td>\n",
              "      <td>0</td>\n",
              "      <td>61.85</td>\n",
              "      <td>0</td>\n",
              "      <td>2</td>\n",
              "      <td>7</td>\n",
              "      <td>4</td>\n",
              "      <td>2</td>\n",
              "      <td>1</td>\n",
              "      <td>1</td>\n",
              "      <td>1</td>\n",
              "      <td>1</td>\n",
              "    </tr>\n",
              "  </tbody>\n",
              "</table>\n",
              "</div>"
            ],
            "text/plain": [
              "    loan_amount  interest_due  ...  work_start_date_month  work_start_date_quarter\n",
              "0        3600.0       1277.64  ...                     10                        4\n",
              "5        5000.0       1000.00  ...                      1                        1\n",
              "10       5000.0       1000.00  ...                      1                        1\n",
              "\n",
              "[3 rows x 31 columns]"
            ]
          },
          "metadata": {
            "tags": []
          },
          "execution_count": 51
        }
      ]
    },
    {
      "cell_type": "code",
      "metadata": {
        "id": "x2N3XROgcD2d"
      },
      "source": [
        "test= test.drop(['status'], axis= 1)"
      ],
      "execution_count": 52,
      "outputs": []
    },
    {
      "cell_type": "code",
      "metadata": {
        "colab": {
          "base_uri": "https://localhost:8080/"
        },
        "id": "ErVLjtbabaHg",
        "outputId": "350b31c5-b9a3-4fd9-c515-dc888e3411b1"
      },
      "source": [
        "rf.fit(X,y)"
      ],
      "execution_count": 53,
      "outputs": [
        {
          "output_type": "execute_result",
          "data": {
            "text/plain": [
              "RandomForestClassifier(bootstrap=True, ccp_alpha=0.0, class_weight=None,\n",
              "                       criterion='gini', max_depth=None, max_features='auto',\n",
              "                       max_leaf_nodes=None, max_samples=None,\n",
              "                       min_impurity_decrease=0.0, min_impurity_split=None,\n",
              "                       min_samples_leaf=1, min_samples_split=2,\n",
              "                       min_weight_fraction_leaf=0.0, n_estimators=100,\n",
              "                       n_jobs=None, oob_score=False, random_state=None,\n",
              "                       verbose=0, warm_start=False)"
            ]
          },
          "metadata": {
            "tags": []
          },
          "execution_count": 53
        }
      ]
    },
    {
      "cell_type": "code",
      "metadata": {
        "id": "Nn8_qXUabin2"
      },
      "source": [
        "prediction= rf.predict(test)"
      ],
      "execution_count": 54,
      "outputs": []
    },
    {
      "cell_type": "code",
      "metadata": {
        "colab": {
          "base_uri": "https://localhost:8080/"
        },
        "id": "VvdnBfjjbrk4",
        "outputId": "f4951d0d-1bb5-4cf9-81a7-6f621d350b54"
      },
      "source": [
        "prediction"
      ],
      "execution_count": 55,
      "outputs": [
        {
          "output_type": "execute_result",
          "data": {
            "text/plain": [
              "array([0, 1, 1, ..., 1, 1, 1])"
            ]
          },
          "metadata": {
            "tags": []
          },
          "execution_count": 55
        }
      ]
    },
    {
      "cell_type": "code",
      "metadata": {
        "id": "2PrW_l9ycM6Q"
      },
      "source": [
        "result= pd.DataFrame(prediction)"
      ],
      "execution_count": 56,
      "outputs": []
    },
    {
      "cell_type": "code",
      "metadata": {
        "id": "15kSwjIUcciY"
      },
      "source": [
        "result.to_csv('olowe.csv', index= False)"
      ],
      "execution_count": 57,
      "outputs": []
    },
    {
      "cell_type": "markdown",
      "metadata": {
        "id": "5NgrfEAllcrd"
      },
      "source": [
        "# Feature Importance"
      ]
    },
    {
      "cell_type": "code",
      "metadata": {
        "colab": {
          "base_uri": "https://localhost:8080/",
          "height": 528
        },
        "id": "HemTp7Y0iEyo",
        "outputId": "477d4c86-b734-491f-9351-4649ca14d0e4"
      },
      "source": [
        "features=df.columns\r\n",
        "importances = gb.feature_importances_\r\n",
        "indices = np.argsort(importances)\r\n",
        "\r\n",
        "plt.figure(figsize=(12,8))\r\n",
        "plt.title('Feature Importances')\r\n",
        "plt.barh(range(len(indices)), importances[indices], color='r', align='center')\r\n",
        "plt.yticks(range(len(indices)), features[indices])\r\n",
        "plt.xlabel('Relative Importance')"
      ],
      "execution_count": 60,
      "outputs": [
        {
          "output_type": "execute_result",
          "data": {
            "text/plain": [
              "Text(0.5, 0, 'Relative Importance')"
            ]
          },
          "metadata": {
            "tags": []
          },
          "execution_count": 60
        },
        {
          "output_type": "display_data",
          "data": {
            "image/png": "[encoded data removed]",
            "text/plain": [
              "<Figure size 864x576 with 1 Axes>"
            ]
          },
          "metadata": {
            "tags": [],
            "needs_background": "light"
          }
        }
      ]
    },
    {
      "cell_type": "code",
      "metadata": {
        "id": "YnFw0x6Mkfw5"
      },
      "source": [
        ""
      ],
      "execution_count": 58,
      "outputs": []
    }
  ]
}