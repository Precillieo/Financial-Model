{
  "nbformat": 4,
  "nbformat_minor": 0,
  "metadata": {
    "colab": {
      "name": "Finance Model 1",
      "provenance": [],
      "mount_file_id": "1aMWuYHb7LF16PYSxkVnO-TI0v2VcDLVL",
      "authorship_tag": "ABX9TyOJh8MMLKqhZ9eVq2my6hHo",
      "include_colab_link": true
    },
    "kernelspec": {
      "name": "python3",
      "display_name": "Python 3"
    }
  },
  "cells": [
    {
      "cell_type": "markdown",
      "metadata": {
        "id": "view-in-github",
        "colab_type": "text"
      },
      "source": [
        "<a href=\"https://colab.research.google.com/github/Precillieo/Financial-Model/blob/main/Finance_Model_1.ipynb\" target=\"_parent\"><img src=\"https://colab.research.google.com/assets/colab-badge.svg\" alt=\"Open In Colab\"/></a>"
      ]
    },
    {
      "cell_type": "code",
      "metadata": {
        "id": "2xFVjgOJqEHS"
      },
      "source": [
        "import pandas as pd\r\n",
        "import numpy as np\r\n",
        "import seaborn as sns\r\n",
        "import datetime\r\n",
        "import matplotlib.pyplot as plt\r\n",
        "%matplotlib inline\r\n",
        "\r\n",
        "from sklearn.preprocessing import LabelEncoder\r\n",
        "from sklearn.model_selection import train_test_split, cross_val_score\r\n",
        "from sklearn.metrics import accuracy_score, classification_report\r\n",
        "from sklearn.linear_model import LogisticRegression\r\n",
        "from sklearn.ensemble import RandomForestClassifier, AdaBoostClassifier, GradientBoostingClassifier"
      ],
      "execution_count": 1,
      "outputs": []
    },
    {
      "cell_type": "code",
      "metadata": {
        "id": "TUvJwuiiqu1V"
      },
      "source": [
        "df= pd.read_excel('/content/drive/MyDrive/Mr Olowe/Data Extract for Machine Learning 20201213.xlsx')"
      ],
      "execution_count": 2,
      "outputs": []
    },
    {
      "cell_type": "code",
      "metadata": {
        "colab": {
          "base_uri": "https://localhost:8080/",
          "height": 341
        },
        "id": "dhkDB1b0q1pk",
        "outputId": "63381dbd-5908-4d72-b2cb-427a29962e48"
      },
      "source": [
        "df.head()"
      ],
      "execution_count": 3,
      "outputs": [
        {
          "output_type": "execute_result",
          "data": {
            "text/html": [
              "<div>\n",
              "<style scoped>\n",
              "    .dataframe tbody tr th:only-of-type {\n",
              "        vertical-align: middle;\n",
              "    }\n",
              "\n",
              "    .dataframe tbody tr th {\n",
              "        vertical-align: top;\n",
              "    }\n",
              "\n",
              "    .dataframe thead th {\n",
              "        text-align: right;\n",
              "    }\n",
              "</style>\n",
              "<table border=\"1\" class=\"dataframe\">\n",
              "  <thead>\n",
              "    <tr style=\"text-align: right;\">\n",
              "      <th></th>\n",
              "      <th>loan_amount</th>\n",
              "      <th>interest_due</th>\n",
              "      <th>amount_due</th>\n",
              "      <th>tenor</th>\n",
              "      <th>interest_rate</th>\n",
              "      <th>status_id</th>\n",
              "      <th>status</th>\n",
              "      <th>card_network</th>\n",
              "      <th>card_expiry</th>\n",
              "      <th>bank</th>\n",
              "      <th>phone_network</th>\n",
              "      <th>date_of_birth</th>\n",
              "      <th>tier</th>\n",
              "      <th>selfie_id_check</th>\n",
              "      <th>gender</th>\n",
              "      <th>marital_status</th>\n",
              "      <th>no_of_dependent</th>\n",
              "      <th>type_of_residence</th>\n",
              "      <th>educational_attainment</th>\n",
              "      <th>employment_status</th>\n",
              "      <th>sector_of_employment</th>\n",
              "      <th>monthly_net_income</th>\n",
              "      <th>work_start_date</th>\n",
              "      <th>work_email_validated</th>\n",
              "      <th>address</th>\n",
              "      <th>requested_amount</th>\n",
              "      <th>purpose</th>\n",
              "      <th>proposed_payday</th>\n",
              "      <th>credit_score</th>\n",
              "      <th>location</th>\n",
              "    </tr>\n",
              "  </thead>\n",
              "  <tbody>\n",
              "    <tr>\n",
              "      <th>0</th>\n",
              "      <td>3600.0</td>\n",
              "      <td>1277.64</td>\n",
              "      <td>4877.64</td>\n",
              "      <td>21 days</td>\n",
              "      <td>35.49</td>\n",
              "      <td>1</td>\n",
              "      <td>RUNNING</td>\n",
              "      <td>Mastercard</td>\n",
              "      <td>102023.0</td>\n",
              "      <td>Guaranty Trust Bank</td>\n",
              "      <td>805</td>\n",
              "      <td>1984-07-25</td>\n",
              "      <td>NaN</td>\n",
              "      <td>Pending</td>\n",
              "      <td>Male</td>\n",
              "      <td>Married</td>\n",
              "      <td>2</td>\n",
              "      <td>Parents Apartment</td>\n",
              "      <td>Diploma/School Cert</td>\n",
              "      <td>Self Employed</td>\n",
              "      <td>Agriculture</td>\n",
              "      <td>10,000 - 54,999</td>\n",
              "      <td>2017-10-07 01:00:00</td>\n",
              "      <td>0</td>\n",
              "      <td>Umuahia</td>\n",
              "      <td>12000.0</td>\n",
              "      <td>Business</td>\n",
              "      <td>30 days</td>\n",
              "      <td>63.040</td>\n",
              "      <td>abia</td>\n",
              "    </tr>\n",
              "    <tr>\n",
              "      <th>1</th>\n",
              "      <td>10000.0</td>\n",
              "      <td>500.00</td>\n",
              "      <td>0.00</td>\n",
              "      <td>1 days</td>\n",
              "      <td>5.00</td>\n",
              "      <td>2</td>\n",
              "      <td>SETTLED</td>\n",
              "      <td>Visa</td>\n",
              "      <td>NaN</td>\n",
              "      <td>NaN</td>\n",
              "      <td>813</td>\n",
              "      <td>1986-11-14</td>\n",
              "      <td>NaN</td>\n",
              "      <td>Successful</td>\n",
              "      <td>Female</td>\n",
              "      <td>Married</td>\n",
              "      <td>3 or more</td>\n",
              "      <td>Own House</td>\n",
              "      <td>BSc, HND and Other Equivalent</td>\n",
              "      <td>Self Employed</td>\n",
              "      <td>Information Technology</td>\n",
              "      <td>100,000 - 199,999</td>\n",
              "      <td>2012-06-01 01:00:00</td>\n",
              "      <td>0</td>\n",
              "      <td>Umuahia</td>\n",
              "      <td>15000.0</td>\n",
              "      <td>Personal</td>\n",
              "      <td>30 days</td>\n",
              "      <td>65.220</td>\n",
              "      <td>abia</td>\n",
              "    </tr>\n",
              "    <tr>\n",
              "      <th>2</th>\n",
              "      <td>10000.0</td>\n",
              "      <td>500.00</td>\n",
              "      <td>0.00</td>\n",
              "      <td>1 days</td>\n",
              "      <td>5.00</td>\n",
              "      <td>2</td>\n",
              "      <td>SETTLED</td>\n",
              "      <td>Mastercard</td>\n",
              "      <td>92023.0</td>\n",
              "      <td>United Bank for Africa</td>\n",
              "      <td>813</td>\n",
              "      <td>1986-11-14</td>\n",
              "      <td>NaN</td>\n",
              "      <td>Successful</td>\n",
              "      <td>Female</td>\n",
              "      <td>Married</td>\n",
              "      <td>3 or more</td>\n",
              "      <td>Own House</td>\n",
              "      <td>BSc, HND and Other Equivalent</td>\n",
              "      <td>Self Employed</td>\n",
              "      <td>Information Technology</td>\n",
              "      <td>100,000 - 199,999</td>\n",
              "      <td>2012-06-01 01:00:00</td>\n",
              "      <td>0</td>\n",
              "      <td>Umuahia</td>\n",
              "      <td>15000.0</td>\n",
              "      <td>Personal</td>\n",
              "      <td>30 days</td>\n",
              "      <td>65.220</td>\n",
              "      <td>abia</td>\n",
              "    </tr>\n",
              "    <tr>\n",
              "      <th>3</th>\n",
              "      <td>3600.0</td>\n",
              "      <td>1277.64</td>\n",
              "      <td>5573.64</td>\n",
              "      <td>21 days</td>\n",
              "      <td>35.49</td>\n",
              "      <td>5</td>\n",
              "      <td>PAST DUE</td>\n",
              "      <td>Mastercard</td>\n",
              "      <td>22023.0</td>\n",
              "      <td>United Bank for Africa</td>\n",
              "      <td>703</td>\n",
              "      <td>1980-05-17</td>\n",
              "      <td>NaN</td>\n",
              "      <td>Pending</td>\n",
              "      <td>Male</td>\n",
              "      <td>Single</td>\n",
              "      <td>0</td>\n",
              "      <td>Own House</td>\n",
              "      <td>Diploma/School Cert</td>\n",
              "      <td>Local Govt: Public</td>\n",
              "      <td>Agriculture</td>\n",
              "      <td>10,000 - 54,999</td>\n",
              "      <td>2007-07-01 00:00:00</td>\n",
              "      <td>0</td>\n",
              "      <td>Aba</td>\n",
              "      <td>15000.0</td>\n",
              "      <td>Medical</td>\n",
              "      <td>30 days</td>\n",
              "      <td>66.904</td>\n",
              "      <td>abia</td>\n",
              "    </tr>\n",
              "    <tr>\n",
              "      <th>4</th>\n",
              "      <td>5000.0</td>\n",
              "      <td>424.11</td>\n",
              "      <td>0.00</td>\n",
              "      <td>30 days</td>\n",
              "      <td>8.60</td>\n",
              "      <td>2</td>\n",
              "      <td>SETTLED</td>\n",
              "      <td>Mastercard</td>\n",
              "      <td>42022.0</td>\n",
              "      <td>Polaris Bank</td>\n",
              "      <td>803</td>\n",
              "      <td>1975-01-20</td>\n",
              "      <td>Tier 2</td>\n",
              "      <td>Successful</td>\n",
              "      <td>NaN</td>\n",
              "      <td>Married</td>\n",
              "      <td>2</td>\n",
              "      <td>NaN</td>\n",
              "      <td>BSc, HND and Other Equivalent</td>\n",
              "      <td>Self Employed</td>\n",
              "      <td>Information Technology</td>\n",
              "      <td>100,000 - 199,999</td>\n",
              "      <td>2002-01-01 00:00:00</td>\n",
              "      <td>0</td>\n",
              "      <td>NaN</td>\n",
              "      <td>20000.0</td>\n",
              "      <td>Medical</td>\n",
              "      <td>30 days</td>\n",
              "      <td>68.670</td>\n",
              "      <td>abia</td>\n",
              "    </tr>\n",
              "  </tbody>\n",
              "</table>\n",
              "</div>"
            ],
            "text/plain": [
              "   loan_amount  interest_due  amount_due  ... proposed_payday  credit_score  location\n",
              "0       3600.0       1277.64     4877.64  ...         30 days        63.040      abia\n",
              "1      10000.0        500.00        0.00  ...         30 days        65.220      abia\n",
              "2      10000.0        500.00        0.00  ...         30 days        65.220      abia\n",
              "3       3600.0       1277.64     5573.64  ...         30 days        66.904      abia\n",
              "4       5000.0        424.11        0.00  ...         30 days        68.670      abia\n",
              "\n",
              "[5 rows x 30 columns]"
            ]
          },
          "metadata": {
            "tags": []
          },
          "execution_count": 3
        }
      ]
    },
    {
      "cell_type": "code",
      "metadata": {
        "colab": {
          "base_uri": "https://localhost:8080/"
        },
        "id": "fquGGqwwJOAd",
        "outputId": "211ddaba-3e25-4f58-9534-9957a2a09ca8"
      },
      "source": [
        "df.shape"
      ],
      "execution_count": 4,
      "outputs": [
        {
          "output_type": "execute_result",
          "data": {
            "text/plain": [
              "(2981, 30)"
            ]
          },
          "metadata": {
            "tags": []
          },
          "execution_count": 4
        }
      ]
    },
    {
      "cell_type": "code",
      "metadata": {
        "colab": {
          "base_uri": "https://localhost:8080/",
          "height": 335
        },
        "id": "TbxXCgjdX2hX",
        "outputId": "11fe5c9e-f930-4469-9cd0-4b9281049aba"
      },
      "source": [
        "df.corr()"
      ],
      "execution_count": 5,
      "outputs": [
        {
          "output_type": "execute_result",
          "data": {
            "text/html": [
              "<div>\n",
              "<style scoped>\n",
              "    .dataframe tbody tr th:only-of-type {\n",
              "        vertical-align: middle;\n",
              "    }\n",
              "\n",
              "    .dataframe tbody tr th {\n",
              "        vertical-align: top;\n",
              "    }\n",
              "\n",
              "    .dataframe thead th {\n",
              "        text-align: right;\n",
              "    }\n",
              "</style>\n",
              "<table border=\"1\" class=\"dataframe\">\n",
              "  <thead>\n",
              "    <tr style=\"text-align: right;\">\n",
              "      <th></th>\n",
              "      <th>loan_amount</th>\n",
              "      <th>interest_due</th>\n",
              "      <th>amount_due</th>\n",
              "      <th>interest_rate</th>\n",
              "      <th>status_id</th>\n",
              "      <th>card_expiry</th>\n",
              "      <th>phone_network</th>\n",
              "      <th>work_email_validated</th>\n",
              "      <th>requested_amount</th>\n",
              "      <th>credit_score</th>\n",
              "    </tr>\n",
              "  </thead>\n",
              "  <tbody>\n",
              "    <tr>\n",
              "      <th>loan_amount</th>\n",
              "      <td>1.000000</td>\n",
              "      <td>0.844030</td>\n",
              "      <td>0.673658</td>\n",
              "      <td>-0.029748</td>\n",
              "      <td>-0.080333</td>\n",
              "      <td>0.020951</td>\n",
              "      <td>-0.024393</td>\n",
              "      <td>-0.064608</td>\n",
              "      <td>0.026020</td>\n",
              "      <td>0.058550</td>\n",
              "    </tr>\n",
              "    <tr>\n",
              "      <th>interest_due</th>\n",
              "      <td>0.844030</td>\n",
              "      <td>1.000000</td>\n",
              "      <td>0.682882</td>\n",
              "      <td>0.261310</td>\n",
              "      <td>-0.110580</td>\n",
              "      <td>0.031285</td>\n",
              "      <td>-0.001660</td>\n",
              "      <td>0.000497</td>\n",
              "      <td>0.004526</td>\n",
              "      <td>0.058809</td>\n",
              "    </tr>\n",
              "    <tr>\n",
              "      <th>amount_due</th>\n",
              "      <td>0.673658</td>\n",
              "      <td>0.682882</td>\n",
              "      <td>1.000000</td>\n",
              "      <td>0.190289</td>\n",
              "      <td>0.005651</td>\n",
              "      <td>0.025132</td>\n",
              "      <td>0.011969</td>\n",
              "      <td>-0.036102</td>\n",
              "      <td>0.022740</td>\n",
              "      <td>0.043661</td>\n",
              "    </tr>\n",
              "    <tr>\n",
              "      <th>interest_rate</th>\n",
              "      <td>-0.029748</td>\n",
              "      <td>0.261310</td>\n",
              "      <td>0.190289</td>\n",
              "      <td>1.000000</td>\n",
              "      <td>-0.228158</td>\n",
              "      <td>0.030373</td>\n",
              "      <td>-0.003669</td>\n",
              "      <td>0.223259</td>\n",
              "      <td>-0.009559</td>\n",
              "      <td>0.235940</td>\n",
              "    </tr>\n",
              "    <tr>\n",
              "      <th>status_id</th>\n",
              "      <td>-0.080333</td>\n",
              "      <td>-0.110580</td>\n",
              "      <td>0.005651</td>\n",
              "      <td>-0.228158</td>\n",
              "      <td>1.000000</td>\n",
              "      <td>-0.038125</td>\n",
              "      <td>0.024915</td>\n",
              "      <td>0.033600</td>\n",
              "      <td>-0.016094</td>\n",
              "      <td>-0.122238</td>\n",
              "    </tr>\n",
              "    <tr>\n",
              "      <th>card_expiry</th>\n",
              "      <td>0.020951</td>\n",
              "      <td>0.031285</td>\n",
              "      <td>0.025132</td>\n",
              "      <td>0.030373</td>\n",
              "      <td>-0.038125</td>\n",
              "      <td>1.000000</td>\n",
              "      <td>0.027508</td>\n",
              "      <td>-0.011407</td>\n",
              "      <td>0.000766</td>\n",
              "      <td>0.039887</td>\n",
              "    </tr>\n",
              "    <tr>\n",
              "      <th>phone_network</th>\n",
              "      <td>-0.024393</td>\n",
              "      <td>-0.001660</td>\n",
              "      <td>0.011969</td>\n",
              "      <td>-0.003669</td>\n",
              "      <td>0.024915</td>\n",
              "      <td>0.027508</td>\n",
              "      <td>1.000000</td>\n",
              "      <td>-0.014131</td>\n",
              "      <td>0.005946</td>\n",
              "      <td>-0.066709</td>\n",
              "    </tr>\n",
              "    <tr>\n",
              "      <th>work_email_validated</th>\n",
              "      <td>-0.064608</td>\n",
              "      <td>0.000497</td>\n",
              "      <td>-0.036102</td>\n",
              "      <td>0.223259</td>\n",
              "      <td>0.033600</td>\n",
              "      <td>-0.011407</td>\n",
              "      <td>-0.014131</td>\n",
              "      <td>1.000000</td>\n",
              "      <td>-0.003703</td>\n",
              "      <td>0.073265</td>\n",
              "    </tr>\n",
              "    <tr>\n",
              "      <th>requested_amount</th>\n",
              "      <td>0.026020</td>\n",
              "      <td>0.004526</td>\n",
              "      <td>0.022740</td>\n",
              "      <td>-0.009559</td>\n",
              "      <td>-0.016094</td>\n",
              "      <td>0.000766</td>\n",
              "      <td>0.005946</td>\n",
              "      <td>-0.003703</td>\n",
              "      <td>1.000000</td>\n",
              "      <td>0.044138</td>\n",
              "    </tr>\n",
              "    <tr>\n",
              "      <th>credit_score</th>\n",
              "      <td>0.058550</td>\n",
              "      <td>0.058809</td>\n",
              "      <td>0.043661</td>\n",
              "      <td>0.235940</td>\n",
              "      <td>-0.122238</td>\n",
              "      <td>0.039887</td>\n",
              "      <td>-0.066709</td>\n",
              "      <td>0.073265</td>\n",
              "      <td>0.044138</td>\n",
              "      <td>1.000000</td>\n",
              "    </tr>\n",
              "  </tbody>\n",
              "</table>\n",
              "</div>"
            ],
            "text/plain": [
              "                      loan_amount  interest_due  ...  requested_amount  credit_score\n",
              "loan_amount              1.000000      0.844030  ...          0.026020      0.058550\n",
              "interest_due             0.844030      1.000000  ...          0.004526      0.058809\n",
              "amount_due               0.673658      0.682882  ...          0.022740      0.043661\n",
              "interest_rate           -0.029748      0.261310  ...         -0.009559      0.235940\n",
              "status_id               -0.080333     -0.110580  ...         -0.016094     -0.122238\n",
              "card_expiry              0.020951      0.031285  ...          0.000766      0.039887\n",
              "phone_network           -0.024393     -0.001660  ...          0.005946     -0.066709\n",
              "work_email_validated    -0.064608      0.000497  ...         -0.003703      0.073265\n",
              "requested_amount         0.026020      0.004526  ...          1.000000      0.044138\n",
              "credit_score             0.058550      0.058809  ...          0.044138      1.000000\n",
              "\n",
              "[10 rows x 10 columns]"
            ]
          },
          "metadata": {
            "tags": []
          },
          "execution_count": 5
        }
      ]
    },
    {
      "cell_type": "code",
      "metadata": {
        "id": "FvJFLSNCYtOD"
      },
      "source": [
        "#df[df.columns[1:]].corrwith(df['status'])"
      ],
      "execution_count": 6,
      "outputs": []
    },
    {
      "cell_type": "code",
      "metadata": {
        "colab": {
          "base_uri": "https://localhost:8080/"
        },
        "id": "VUgJUx72wbhA",
        "outputId": "2db50f82-8b71-49ef-adf6-c63e0da2f3e3"
      },
      "source": [
        "df.info()"
      ],
      "execution_count": 7,
      "outputs": [
        {
          "output_type": "stream",
          "text": [
            "<class 'pandas.core.frame.DataFrame'>\n",
            "RangeIndex: 2981 entries, 0 to 2980\n",
            "Data columns (total 30 columns):\n",
            " #   Column                  Non-Null Count  Dtype         \n",
            "---  ------                  --------------  -----         \n",
            " 0   loan_amount             2981 non-null   float64       \n",
            " 1   interest_due            2981 non-null   float64       \n",
            " 2   amount_due              2981 non-null   float64       \n",
            " 3   tenor                   2981 non-null   object        \n",
            " 4   interest_rate           2958 non-null   float64       \n",
            " 5   status_id               2981 non-null   int64         \n",
            " 6   status                  2981 non-null   object        \n",
            " 7   card_network            2981 non-null   object        \n",
            " 8   card_expiry             2941 non-null   float64       \n",
            " 9   bank                    2941 non-null   object        \n",
            " 10  phone_network           2981 non-null   int64         \n",
            " 11  date_of_birth           2981 non-null   datetime64[ns]\n",
            " 12  tier                    2472 non-null   object        \n",
            " 13  selfie_id_check         2598 non-null   object        \n",
            " 14  gender                  558 non-null    object        \n",
            " 15  marital_status          2981 non-null   object        \n",
            " 16  no_of_dependent         2981 non-null   object        \n",
            " 17  type_of_residence       558 non-null    object        \n",
            " 18  educational_attainment  2981 non-null   object        \n",
            " 19  employment_status       2981 non-null   object        \n",
            " 20  sector_of_employment    2981 non-null   object        \n",
            " 21  monthly_net_income      2981 non-null   object        \n",
            " 22  work_start_date         2981 non-null   datetime64[ns]\n",
            " 23  work_email_validated    2981 non-null   int64         \n",
            " 24  address                 558 non-null    object        \n",
            " 25  requested_amount        2981 non-null   float64       \n",
            " 26  purpose                 2981 non-null   object        \n",
            " 27  proposed_payday         2981 non-null   object        \n",
            " 28  credit_score            2981 non-null   float64       \n",
            " 29  location                2981 non-null   object        \n",
            "dtypes: datetime64[ns](2), float64(7), int64(3), object(18)\n",
            "memory usage: 698.8+ KB\n"
          ],
          "name": "stdout"
        }
      ]
    },
    {
      "cell_type": "markdown",
      "metadata": {
        "id": "mqpzjGoMeUkp"
      },
      "source": [
        "# Visualizing The Target Value"
      ]
    },
    {
      "cell_type": "code",
      "metadata": {
        "colab": {
          "base_uri": "https://localhost:8080/",
          "height": 295
        },
        "id": "tK7H9Ir0eDS1",
        "outputId": "73924c83-f4c5-41ef-8436-a0b1bb4fba58"
      },
      "source": [
        "sns.countplot(x= df['status'])"
      ],
      "execution_count": 8,
      "outputs": [
        {
          "output_type": "execute_result",
          "data": {
            "text/plain": [
              "<matplotlib.axes._subplots.AxesSubplot at 0x7f175f651160>"
            ]
          },
          "metadata": {
            "tags": []
          },
          "execution_count": 8
        },
        {
          "output_type": "display_data",
          "data": {
            "image/png": "[encoded data removed]",
            "text/plain": [
              "<Figure size 432x288 with 1 Axes>"
            ]
          },
          "metadata": {
            "tags": [],
            "needs_background": "light"
          }
        }
      ]
    },
    {
      "cell_type": "markdown",
      "metadata": {
        "id": "TBFsRx5Z1mrL"
      },
      "source": [
        "# Working With Date Related Columns\r\n",
        "### Date Of Birth\r\n",
        "### Work Start Date"
      ]
    },
    {
      "cell_type": "code",
      "metadata": {
        "id": "B-YohTQp2FCd"
      },
      "source": [
        "date_column= ['date_of_birth', 'work_start_date']"
      ],
      "execution_count": 9,
      "outputs": []
    },
    {
      "cell_type": "code",
      "metadata": {
        "id": "CeY3Y1qb1mNv"
      },
      "source": [
        "def extract_date(df,cols,):\r\n",
        "    for x in cols:\r\n",
        "        df[x +'_year'] = df[x].dt.quarter\r\n",
        "        df[x +'_day'] = df[x].dt.day\r\n",
        "        df[x +'_month'] = df[x].dt.month\r\n",
        "        df[x +'_quarter'] = df[x].dt.quarter\r\n",
        "    df.drop(columns=date_column,axis=1,inplace=True)"
      ],
      "execution_count": 10,
      "outputs": []
    },
    {
      "cell_type": "code",
      "metadata": {
        "id": "ZK0iDek4xHna"
      },
      "source": [
        "extract_date(df,date_column)"
      ],
      "execution_count": 11,
      "outputs": []
    },
    {
      "cell_type": "markdown",
      "metadata": {
        "id": "qwyCJR1MDVRA"
      },
      "source": [
        "# Working On Date Column2\r\n",
        "### Tenor"
      ]
    },
    {
      "cell_type": "code",
      "metadata": {
        "colab": {
          "base_uri": "https://localhost:8080/"
        },
        "id": "iHaPpSY56jfA",
        "outputId": "bcbf14a6-4d48-4be2-a24c-797d87ad4e33"
      },
      "source": [
        "df['tenor'].value_counts()"
      ],
      "execution_count": 12,
      "outputs": [
        {
          "output_type": "execute_result",
          "data": {
            "text/plain": [
              "1 months    673\n",
              "30 days     656\n",
              "15 days     655\n",
              "14 days     297\n",
              "4 weeks     168\n",
              "21 days     158\n",
              "3 weeks     103\n",
              "20 days      49\n",
              "7 days       46\n",
              "1 days       44\n",
              "28 days      42\n",
              "25 days      27\n",
              "16 days      18\n",
              "10 days      13\n",
              "29 days       8\n",
              "17 days       5\n",
              "18 days       5\n",
              "22 days       5\n",
              "27 days       3\n",
              "26 days       2\n",
              "12 days       1\n",
              "23 days       1\n",
              "19 days       1\n",
              "24 days       1\n",
              "Name: tenor, dtype: int64"
            ]
          },
          "metadata": {
            "tags": []
          },
          "execution_count": 12
        }
      ]
    },
    {
      "cell_type": "code",
      "metadata": {
        "id": "E8oeA8Dk616n"
      },
      "source": [
        "df['tenor']= df['tenor'].replace(['4 weeks', '3 weeks', '1 months'], ['30 days', '21 days', '30 days'])"
      ],
      "execution_count": 13,
      "outputs": []
    },
    {
      "cell_type": "markdown",
      "metadata": {
        "id": "29jn5Z_0Kax0"
      },
      "source": [
        "# Filling Missing Values"
      ]
    },
    {
      "cell_type": "code",
      "metadata": {
        "colab": {
          "base_uri": "https://localhost:8080/"
        },
        "id": "vEHUjWeGGve8",
        "outputId": "087c14de-0639-4558-c64c-bcd3384f4ba6"
      },
      "source": [
        "df.isnull().sum()"
      ],
      "execution_count": 14,
      "outputs": [
        {
          "output_type": "execute_result",
          "data": {
            "text/plain": [
              "loan_amount                   0\n",
              "interest_due                  0\n",
              "amount_due                    0\n",
              "tenor                         0\n",
              "interest_rate                23\n",
              "status_id                     0\n",
              "status                        0\n",
              "card_network                  0\n",
              "card_expiry                  40\n",
              "bank                         40\n",
              "phone_network                 0\n",
              "tier                        509\n",
              "selfie_id_check             383\n",
              "gender                     2423\n",
              "marital_status                0\n",
              "no_of_dependent               0\n",
              "type_of_residence          2423\n",
              "educational_attainment        0\n",
              "employment_status             0\n",
              "sector_of_employment          0\n",
              "monthly_net_income            0\n",
              "work_email_validated          0\n",
              "address                    2423\n",
              "requested_amount              0\n",
              "purpose                       0\n",
              "proposed_payday               0\n",
              "credit_score                  0\n",
              "location                      0\n",
              "date_of_birth_year            0\n",
              "date_of_birth_day             0\n",
              "date_of_birth_month           0\n",
              "date_of_birth_quarter         0\n",
              "work_start_date_year          0\n",
              "work_start_date_day           0\n",
              "work_start_date_month         0\n",
              "work_start_date_quarter       0\n",
              "dtype: int64"
            ]
          },
          "metadata": {
            "tags": []
          },
          "execution_count": 14
        }
      ]
    },
    {
      "cell_type": "markdown",
      "metadata": {
        "id": "hNDVSgQmKok1"
      },
      "source": [
        "## Interest Rate Column"
      ]
    },
    {
      "cell_type": "code",
      "metadata": {
        "colab": {
          "base_uri": "https://localhost:8080/"
        },
        "id": "sC8y2B3uG6pa",
        "outputId": "35961e4c-f600-407d-f592-a7055a42a596"
      },
      "source": [
        "df['interest_rate'].value_counts()"
      ],
      "execution_count": 15,
      "outputs": [
        {
          "output_type": "execute_result",
          "data": {
            "text/plain": [
              "25.20    295\n",
              "35.49    122\n",
              "15.00    107\n",
              "11.33     47\n",
              "11.32     46\n",
              "        ... \n",
              "8.36       1\n",
              "19.45      1\n",
              "9.98       1\n",
              "8.37       1\n",
              "8.23       1\n",
              "Name: interest_rate, Length: 390, dtype: int64"
            ]
          },
          "metadata": {
            "tags": []
          },
          "execution_count": 15
        }
      ]
    },
    {
      "cell_type": "code",
      "metadata": {
        "id": "rh6HD2yoHH5Q"
      },
      "source": [
        "df['interest_rate']= df['interest_rate'].fillna(df['interest_rate'].mean())"
      ],
      "execution_count": 16,
      "outputs": []
    },
    {
      "cell_type": "markdown",
      "metadata": {
        "id": "OTH75tWFKvW3"
      },
      "source": [
        "## Card Expiry Column"
      ]
    },
    {
      "cell_type": "code",
      "metadata": {
        "colab": {
          "base_uri": "https://localhost:8080/"
        },
        "id": "ZyWgs2t-HdRs",
        "outputId": "3da83060-0a29-4667-8b8c-f9d5b72bf548"
      },
      "source": [
        " df['card_expiry'].value_counts()"
      ],
      "execution_count": 17,
      "outputs": [
        {
          "output_type": "execute_result",
          "data": {
            "text/plain": [
              "22023.0     167\n",
              "32023.0     158\n",
              "82023.0     148\n",
              "92023.0     143\n",
              "72023.0     140\n",
              "12023.0     114\n",
              "122022.0    113\n",
              "102023.0    108\n",
              "92022.0     107\n",
              "22022.0      96\n",
              "72022.0      96\n",
              "102022.0     93\n",
              "82022.0      90\n",
              "52023.0      87\n",
              "62023.0      84\n",
              "62022.0      82\n",
              "42022.0      82\n",
              "12022.0      82\n",
              "112022.0     81\n",
              "122021.0     71\n",
              "32022.0      69\n",
              "112021.0     65\n",
              "52022.0      59\n",
              "82021.0      56\n",
              "112023.0     53\n",
              "102021.0     49\n",
              "92021.0      45\n",
              "72021.0      39\n",
              "52021.0      36\n",
              "62021.0      35\n",
              "42021.0      33\n",
              "122023.0     27\n",
              "82024.0      26\n",
              "42023.0      25\n",
              "102024.0     24\n",
              "52024.0      22\n",
              "92024.0      19\n",
              "72024.0      18\n",
              "32021.0      18\n",
              "32024.0      16\n",
              "22024.0      12\n",
              "12021.0      12\n",
              "12024.0      11\n",
              "62024.0      11\n",
              "42024.0       6\n",
              "112024.0      5\n",
              "102020.0      3\n",
              "22021.0       3\n",
              "122024.0      1\n",
              "112020.0      1\n",
              "Name: card_expiry, dtype: int64"
            ]
          },
          "metadata": {
            "tags": []
          },
          "execution_count": 17
        }
      ]
    },
    {
      "cell_type": "code",
      "metadata": {
        "id": "iNJG4ATVH4Iy"
      },
      "source": [
        "df['card_expiry']= df['card_expiry'].fillna(df['card_expiry'].mean())"
      ],
      "execution_count": 18,
      "outputs": []
    },
    {
      "cell_type": "markdown",
      "metadata": {
        "id": "OLY20ZQ5K3IY"
      },
      "source": [
        "## Bank, Tier, Selfie_id_check Columns"
      ]
    },
    {
      "cell_type": "code",
      "metadata": {
        "colab": {
          "base_uri": "https://localhost:8080/"
        },
        "id": "krlrcgKqJj1Z",
        "outputId": "9cb4fa3d-0621-4f5f-bb04-2cf6b17ae0c3"
      },
      "source": [
        "df['tier'].value_counts()"
      ],
      "execution_count": 19,
      "outputs": [
        {
          "output_type": "execute_result",
          "data": {
            "text/plain": [
              "Tier 1    1874\n",
              "Tier 2     406\n",
              "Tier 3     192\n",
              "Name: tier, dtype: int64"
            ]
          },
          "metadata": {
            "tags": []
          },
          "execution_count": 19
        }
      ]
    },
    {
      "cell_type": "code",
      "metadata": {
        "colab": {
          "base_uri": "https://localhost:8080/"
        },
        "id": "sCJfjrSNJ6Q9",
        "outputId": "2598b3c6-2f16-42f9-fe63-03bf850c195f"
      },
      "source": [
        "df['selfie_id_check'].value_counts()"
      ],
      "execution_count": 20,
      "outputs": [
        {
          "output_type": "execute_result",
          "data": {
            "text/plain": [
              "Successful    1141\n",
              "Pending        817\n",
              "Failed         640\n",
              "Name: selfie_id_check, dtype: int64"
            ]
          },
          "metadata": {
            "tags": []
          },
          "execution_count": 20
        }
      ]
    },
    {
      "cell_type": "code",
      "metadata": {
        "colab": {
          "base_uri": "https://localhost:8080/"
        },
        "id": "VSby5Rv9Nfm2",
        "outputId": "dc8545df-2999-4f22-a940-028ca0a37d88"
      },
      "source": [
        "df['bank'].value_counts()"
      ],
      "execution_count": 21,
      "outputs": [
        {
          "output_type": "execute_result",
          "data": {
            "text/plain": [
              "Guaranty Trust Bank         774\n",
              "Access Bank                 462\n",
              "First Bank of Nigeria       371\n",
              "Zenith Bank                 360\n",
              "United Bank for Africa      314\n",
              "Union Bank of Nigeria        99\n",
              "First City Monument Bank     78\n",
              "Ecobank Nigeria              78\n",
              "Sterling Bank                76\n",
              "Stanbic IBTC Bank            74\n",
              "Polaris Bank                 73\n",
              "Fidelity Bank                60\n",
              "Access Bank (Diamond)        35\n",
              "Keystone Bank                29\n",
              "Wema Bank                    29\n",
              "Unity Bank                   16\n",
              "Jaiz Bank                     5\n",
              "Heritage Bank                 3\n",
              "SunTrust Bank                 2\n",
              "Suntrust Bank                 2\n",
              "Providus Bank                 1\n",
              "Name: bank, dtype: int64"
            ]
          },
          "metadata": {
            "tags": []
          },
          "execution_count": 21
        }
      ]
    },
    {
      "cell_type": "code",
      "metadata": {
        "id": "1MXJ03j_LEe7"
      },
      "source": [
        "val= ['bank', 'tier', 'selfie_id_check']\r\n",
        "for x in val:\r\n",
        "  df[x]= df[x].fillna(df[x].mode()[0])"
      ],
      "execution_count": 22,
      "outputs": []
    },
    {
      "cell_type": "markdown",
      "metadata": {
        "id": "NaH8iaR6NyZA"
      },
      "source": [
        "# Dropping Missing Values"
      ]
    },
    {
      "cell_type": "code",
      "metadata": {
        "id": "7L3pHJB_Nxgv"
      },
      "source": [
        "df= df.drop(['gender', 'type_of_residence', 'address'], axis= 1)"
      ],
      "execution_count": 23,
      "outputs": []
    },
    {
      "cell_type": "code",
      "metadata": {
        "colab": {
          "base_uri": "https://localhost:8080/"
        },
        "id": "s333Uo70LZCA",
        "outputId": "bec707bd-c12e-4b15-8955-5128872119a9"
      },
      "source": [
        "df.isnull().sum()"
      ],
      "execution_count": 24,
      "outputs": [
        {
          "output_type": "execute_result",
          "data": {
            "text/plain": [
              "loan_amount                0\n",
              "interest_due               0\n",
              "amount_due                 0\n",
              "tenor                      0\n",
              "interest_rate              0\n",
              "status_id                  0\n",
              "status                     0\n",
              "card_network               0\n",
              "card_expiry                0\n",
              "bank                       0\n",
              "phone_network              0\n",
              "tier                       0\n",
              "selfie_id_check            0\n",
              "marital_status             0\n",
              "no_of_dependent            0\n",
              "educational_attainment     0\n",
              "employment_status          0\n",
              "sector_of_employment       0\n",
              "monthly_net_income         0\n",
              "work_email_validated       0\n",
              "requested_amount           0\n",
              "purpose                    0\n",
              "proposed_payday            0\n",
              "credit_score               0\n",
              "location                   0\n",
              "date_of_birth_year         0\n",
              "date_of_birth_day          0\n",
              "date_of_birth_month        0\n",
              "date_of_birth_quarter      0\n",
              "work_start_date_year       0\n",
              "work_start_date_day        0\n",
              "work_start_date_month      0\n",
              "work_start_date_quarter    0\n",
              "dtype: int64"
            ]
          },
          "metadata": {
            "tags": []
          },
          "execution_count": 24
        }
      ]
    },
    {
      "cell_type": "markdown",
      "metadata": {
        "id": "fsqeVghyR_qQ"
      },
      "source": [
        "# Converting Categorical Column to Nummerical Columns with Label Encoder"
      ]
    },
    {
      "cell_type": "code",
      "metadata": {
        "id": "bLh-tIQuEu4x"
      },
      "source": [
        "col= ['tenor', 'card_network', 'bank', 'tier', 'selfie_id_check', 'marital_status', 'no_of_dependent', 'educational_attainment', 'employment_status', 'sector_of_employment', 'monthly_net_income', 'purpose', 'proposed_payday', 'location']"
      ],
      "execution_count": 25,
      "outputs": []
    },
    {
      "cell_type": "code",
      "metadata": {
        "id": "BZnx1FOORovh"
      },
      "source": [
        "for y in col:\r\n",
        "  df[y]= df[y].astype(str)"
      ],
      "execution_count": 26,
      "outputs": []
    },
    {
      "cell_type": "code",
      "metadata": {
        "id": "hJKJ7aD_QQgC"
      },
      "source": [
        "for y in col:\r\n",
        "  le= LabelEncoder()\r\n",
        "  df[y]= le.fit_transform(df[y])"
      ],
      "execution_count": 27,
      "outputs": []
    },
    {
      "cell_type": "markdown",
      "metadata": {
        "id": "J5N-Uqd9SOLK"
      },
      "source": [
        "# Splitting Df into Training and Testing Data"
      ]
    },
    {
      "cell_type": "code",
      "metadata": {
        "id": "1job018SrLp_"
      },
      "source": [
        "train1= df[df['status']== 'SETTLED']\r\n",
        "train2= df[df['status'] == 'PAST DUE']\r\n",
        "test= df[df['status'] == 'RUNNING']"
      ],
      "execution_count": 28,
      "outputs": []
    },
    {
      "cell_type": "code",
      "metadata": {
        "colab": {
          "base_uri": "https://localhost:8080/",
          "height": 211
        },
        "id": "Uxoap8CA4EvD",
        "outputId": "ff6fdac0-15ad-4690-eab1-e421d895c5af"
      },
      "source": [
        "test.head()"
      ],
      "execution_count": 29,
      "outputs": [
        {
          "output_type": "execute_result",
          "data": {
            "text/html": [
              "<div>\n",
              "<style scoped>\n",
              "    .dataframe tbody tr th:only-of-type {\n",
              "        vertical-align: middle;\n",
              "    }\n",
              "\n",
              "    .dataframe tbody tr th {\n",
              "        vertical-align: top;\n",
              "    }\n",
              "\n",
              "    .dataframe thead th {\n",
              "        text-align: right;\n",
              "    }\n",
              "</style>\n",
              "<table border=\"1\" class=\"dataframe\">\n",
              "  <thead>\n",
              "    <tr style=\"text-align: right;\">\n",
              "      <th></th>\n",
              "      <th>loan_amount</th>\n",
              "      <th>interest_due</th>\n",
              "      <th>amount_due</th>\n",
              "      <th>tenor</th>\n",
              "      <th>interest_rate</th>\n",
              "      <th>status_id</th>\n",
              "      <th>status</th>\n",
              "      <th>card_network</th>\n",
              "      <th>card_expiry</th>\n",
              "      <th>bank</th>\n",
              "      <th>phone_network</th>\n",
              "      <th>tier</th>\n",
              "      <th>selfie_id_check</th>\n",
              "      <th>marital_status</th>\n",
              "      <th>no_of_dependent</th>\n",
              "      <th>educational_attainment</th>\n",
              "      <th>employment_status</th>\n",
              "      <th>sector_of_employment</th>\n",
              "      <th>monthly_net_income</th>\n",
              "      <th>work_email_validated</th>\n",
              "      <th>requested_amount</th>\n",
              "      <th>purpose</th>\n",
              "      <th>proposed_payday</th>\n",
              "      <th>credit_score</th>\n",
              "      <th>location</th>\n",
              "      <th>date_of_birth_year</th>\n",
              "      <th>date_of_birth_day</th>\n",
              "      <th>date_of_birth_month</th>\n",
              "      <th>date_of_birth_quarter</th>\n",
              "      <th>work_start_date_year</th>\n",
              "      <th>work_start_date_day</th>\n",
              "      <th>work_start_date_month</th>\n",
              "      <th>work_start_date_quarter</th>\n",
              "    </tr>\n",
              "  </thead>\n",
              "  <tbody>\n",
              "    <tr>\n",
              "      <th>0</th>\n",
              "      <td>3600.0</td>\n",
              "      <td>1277.64</td>\n",
              "      <td>4877.64</td>\n",
              "      <td>10</td>\n",
              "      <td>35.49</td>\n",
              "      <td>1</td>\n",
              "      <td>RUNNING</td>\n",
              "      <td>0</td>\n",
              "      <td>102023.0</td>\n",
              "      <td>6</td>\n",
              "      <td>805</td>\n",
              "      <td>0</td>\n",
              "      <td>1</td>\n",
              "      <td>1</td>\n",
              "      <td>4</td>\n",
              "      <td>1</td>\n",
              "      <td>6</td>\n",
              "      <td>0</td>\n",
              "      <td>0</td>\n",
              "      <td>0</td>\n",
              "      <td>12000.0</td>\n",
              "      <td>1</td>\n",
              "      <td>19</td>\n",
              "      <td>63.04</td>\n",
              "      <td>0</td>\n",
              "      <td>3</td>\n",
              "      <td>25</td>\n",
              "      <td>7</td>\n",
              "      <td>3</td>\n",
              "      <td>4</td>\n",
              "      <td>7</td>\n",
              "      <td>10</td>\n",
              "      <td>4</td>\n",
              "    </tr>\n",
              "    <tr>\n",
              "      <th>5</th>\n",
              "      <td>5000.0</td>\n",
              "      <td>1000.00</td>\n",
              "      <td>6000.00</td>\n",
              "      <td>19</td>\n",
              "      <td>19.21</td>\n",
              "      <td>1</td>\n",
              "      <td>RUNNING</td>\n",
              "      <td>0</td>\n",
              "      <td>92022.0</td>\n",
              "      <td>17</td>\n",
              "      <td>813</td>\n",
              "      <td>0</td>\n",
              "      <td>2</td>\n",
              "      <td>3</td>\n",
              "      <td>1</td>\n",
              "      <td>0</td>\n",
              "      <td>1</td>\n",
              "      <td>13</td>\n",
              "      <td>2</td>\n",
              "      <td>0</td>\n",
              "      <td>5000.0</td>\n",
              "      <td>1</td>\n",
              "      <td>21</td>\n",
              "      <td>57.87</td>\n",
              "      <td>0</td>\n",
              "      <td>1</td>\n",
              "      <td>8</td>\n",
              "      <td>3</td>\n",
              "      <td>1</td>\n",
              "      <td>1</td>\n",
              "      <td>1</td>\n",
              "      <td>1</td>\n",
              "      <td>1</td>\n",
              "    </tr>\n",
              "    <tr>\n",
              "      <th>10</th>\n",
              "      <td>5000.0</td>\n",
              "      <td>1000.00</td>\n",
              "      <td>6000.00</td>\n",
              "      <td>19</td>\n",
              "      <td>18.82</td>\n",
              "      <td>1</td>\n",
              "      <td>RUNNING</td>\n",
              "      <td>1</td>\n",
              "      <td>122022.0</td>\n",
              "      <td>0</td>\n",
              "      <td>802</td>\n",
              "      <td>0</td>\n",
              "      <td>1</td>\n",
              "      <td>1</td>\n",
              "      <td>13</td>\n",
              "      <td>4</td>\n",
              "      <td>6</td>\n",
              "      <td>17</td>\n",
              "      <td>0</td>\n",
              "      <td>0</td>\n",
              "      <td>50000.0</td>\n",
              "      <td>1</td>\n",
              "      <td>0</td>\n",
              "      <td>61.85</td>\n",
              "      <td>0</td>\n",
              "      <td>2</td>\n",
              "      <td>7</td>\n",
              "      <td>4</td>\n",
              "      <td>2</td>\n",
              "      <td>1</td>\n",
              "      <td>1</td>\n",
              "      <td>1</td>\n",
              "      <td>1</td>\n",
              "    </tr>\n",
              "    <tr>\n",
              "      <th>11</th>\n",
              "      <td>5000.0</td>\n",
              "      <td>1000.00</td>\n",
              "      <td>6000.00</td>\n",
              "      <td>19</td>\n",
              "      <td>18.80</td>\n",
              "      <td>1</td>\n",
              "      <td>RUNNING</td>\n",
              "      <td>0</td>\n",
              "      <td>32023.0</td>\n",
              "      <td>3</td>\n",
              "      <td>908</td>\n",
              "      <td>0</td>\n",
              "      <td>1</td>\n",
              "      <td>1</td>\n",
              "      <td>1</td>\n",
              "      <td>4</td>\n",
              "      <td>6</td>\n",
              "      <td>5</td>\n",
              "      <td>2</td>\n",
              "      <td>0</td>\n",
              "      <td>7000.0</td>\n",
              "      <td>1</td>\n",
              "      <td>21</td>\n",
              "      <td>62.00</td>\n",
              "      <td>0</td>\n",
              "      <td>4</td>\n",
              "      <td>17</td>\n",
              "      <td>10</td>\n",
              "      <td>4</td>\n",
              "      <td>1</td>\n",
              "      <td>1</td>\n",
              "      <td>1</td>\n",
              "      <td>1</td>\n",
              "    </tr>\n",
              "    <tr>\n",
              "      <th>17</th>\n",
              "      <td>2500.0</td>\n",
              "      <td>1000.00</td>\n",
              "      <td>3500.00</td>\n",
              "      <td>4</td>\n",
              "      <td>18.57</td>\n",
              "      <td>1</td>\n",
              "      <td>RUNNING</td>\n",
              "      <td>0</td>\n",
              "      <td>12023.0</td>\n",
              "      <td>4</td>\n",
              "      <td>706</td>\n",
              "      <td>0</td>\n",
              "      <td>2</td>\n",
              "      <td>1</td>\n",
              "      <td>4</td>\n",
              "      <td>0</td>\n",
              "      <td>6</td>\n",
              "      <td>0</td>\n",
              "      <td>5</td>\n",
              "      <td>0</td>\n",
              "      <td>10000.0</td>\n",
              "      <td>1</td>\n",
              "      <td>2</td>\n",
              "      <td>64.26</td>\n",
              "      <td>0</td>\n",
              "      <td>4</td>\n",
              "      <td>20</td>\n",
              "      <td>11</td>\n",
              "      <td>4</td>\n",
              "      <td>1</td>\n",
              "      <td>1</td>\n",
              "      <td>1</td>\n",
              "      <td>1</td>\n",
              "    </tr>\n",
              "  </tbody>\n",
              "</table>\n",
              "</div>"
            ],
            "text/plain": [
              "    loan_amount  interest_due  ...  work_start_date_month  work_start_date_quarter\n",
              "0        3600.0       1277.64  ...                     10                        4\n",
              "5        5000.0       1000.00  ...                      1                        1\n",
              "10       5000.0       1000.00  ...                      1                        1\n",
              "11       5000.0       1000.00  ...                      1                        1\n",
              "17       2500.0       1000.00  ...                      1                        1\n",
              "\n",
              "[5 rows x 33 columns]"
            ]
          },
          "metadata": {
            "tags": []
          },
          "execution_count": 29
        }
      ]
    },
    {
      "cell_type": "code",
      "metadata": {
        "colab": {
          "base_uri": "https://localhost:8080/"
        },
        "id": "p7kJfE2itx41",
        "outputId": "1126ce18-772a-4b78-afeb-0764c6b4f324"
      },
      "source": [
        "print(train1.shape)\r\n",
        "print(train2.shape)\r\n",
        "frame= [train1, train2]"
      ],
      "execution_count": 30,
      "outputs": [
        {
          "output_type": "stream",
          "text": [
            "(1124, 33)\n",
            "(647, 33)\n"
          ],
          "name": "stdout"
        }
      ]
    },
    {
      "cell_type": "code",
      "metadata": {
        "colab": {
          "base_uri": "https://localhost:8080/"
        },
        "id": "wRF_QuuNuKm0",
        "outputId": "61590ba5-6419-4b1e-f031-c9598e011da6"
      },
      "source": [
        "train= pd.concat(frame)\r\n",
        "train['status'].value_counts()"
      ],
      "execution_count": 31,
      "outputs": [
        {
          "output_type": "execute_result",
          "data": {
            "text/plain": [
              "SETTLED     1124\n",
              "PAST DUE     647\n",
              "Name: status, dtype: int64"
            ]
          },
          "metadata": {
            "tags": []
          },
          "execution_count": 31
        }
      ]
    },
    {
      "cell_type": "code",
      "metadata": {
        "colab": {
          "base_uri": "https://localhost:8080/",
          "height": 211
        },
        "id": "Jb_be4bm38VL",
        "outputId": "2820562a-9bfa-41c6-efa7-a5b77b59135a"
      },
      "source": [
        "train.head()"
      ],
      "execution_count": 32,
      "outputs": [
        {
          "output_type": "execute_result",
          "data": {
            "text/html": [
              "<div>\n",
              "<style scoped>\n",
              "    .dataframe tbody tr th:only-of-type {\n",
              "        vertical-align: middle;\n",
              "    }\n",
              "\n",
              "    .dataframe tbody tr th {\n",
              "        vertical-align: top;\n",
              "    }\n",
              "\n",
              "    .dataframe thead th {\n",
              "        text-align: right;\n",
              "    }\n",
              "</style>\n",
              "<table border=\"1\" class=\"dataframe\">\n",
              "  <thead>\n",
              "    <tr style=\"text-align: right;\">\n",
              "      <th></th>\n",
              "      <th>loan_amount</th>\n",
              "      <th>interest_due</th>\n",
              "      <th>amount_due</th>\n",
              "      <th>tenor</th>\n",
              "      <th>interest_rate</th>\n",
              "      <th>status_id</th>\n",
              "      <th>status</th>\n",
              "      <th>card_network</th>\n",
              "      <th>card_expiry</th>\n",
              "      <th>bank</th>\n",
              "      <th>phone_network</th>\n",
              "      <th>tier</th>\n",
              "      <th>selfie_id_check</th>\n",
              "      <th>marital_status</th>\n",
              "      <th>no_of_dependent</th>\n",
              "      <th>educational_attainment</th>\n",
              "      <th>employment_status</th>\n",
              "      <th>sector_of_employment</th>\n",
              "      <th>monthly_net_income</th>\n",
              "      <th>work_email_validated</th>\n",
              "      <th>requested_amount</th>\n",
              "      <th>purpose</th>\n",
              "      <th>proposed_payday</th>\n",
              "      <th>credit_score</th>\n",
              "      <th>location</th>\n",
              "      <th>date_of_birth_year</th>\n",
              "      <th>date_of_birth_day</th>\n",
              "      <th>date_of_birth_month</th>\n",
              "      <th>date_of_birth_quarter</th>\n",
              "      <th>work_start_date_year</th>\n",
              "      <th>work_start_date_day</th>\n",
              "      <th>work_start_date_month</th>\n",
              "      <th>work_start_date_quarter</th>\n",
              "    </tr>\n",
              "  </thead>\n",
              "  <tbody>\n",
              "    <tr>\n",
              "      <th>1</th>\n",
              "      <td>10000.0</td>\n",
              "      <td>500.00</td>\n",
              "      <td>0.0</td>\n",
              "      <td>0</td>\n",
              "      <td>5.00</td>\n",
              "      <td>2</td>\n",
              "      <td>SETTLED</td>\n",
              "      <td>1</td>\n",
              "      <td>68122.348861</td>\n",
              "      <td>6</td>\n",
              "      <td>813</td>\n",
              "      <td>0</td>\n",
              "      <td>2</td>\n",
              "      <td>1</td>\n",
              "      <td>7</td>\n",
              "      <td>0</td>\n",
              "      <td>6</td>\n",
              "      <td>5</td>\n",
              "      <td>2</td>\n",
              "      <td>0</td>\n",
              "      <td>15000.0</td>\n",
              "      <td>5</td>\n",
              "      <td>19</td>\n",
              "      <td>65.22</td>\n",
              "      <td>0</td>\n",
              "      <td>4</td>\n",
              "      <td>14</td>\n",
              "      <td>11</td>\n",
              "      <td>4</td>\n",
              "      <td>2</td>\n",
              "      <td>1</td>\n",
              "      <td>6</td>\n",
              "      <td>2</td>\n",
              "    </tr>\n",
              "    <tr>\n",
              "      <th>2</th>\n",
              "      <td>10000.0</td>\n",
              "      <td>500.00</td>\n",
              "      <td>0.0</td>\n",
              "      <td>0</td>\n",
              "      <td>5.00</td>\n",
              "      <td>2</td>\n",
              "      <td>SETTLED</td>\n",
              "      <td>0</td>\n",
              "      <td>92023.000000</td>\n",
              "      <td>17</td>\n",
              "      <td>813</td>\n",
              "      <td>0</td>\n",
              "      <td>2</td>\n",
              "      <td>1</td>\n",
              "      <td>7</td>\n",
              "      <td>0</td>\n",
              "      <td>6</td>\n",
              "      <td>5</td>\n",
              "      <td>2</td>\n",
              "      <td>0</td>\n",
              "      <td>15000.0</td>\n",
              "      <td>5</td>\n",
              "      <td>19</td>\n",
              "      <td>65.22</td>\n",
              "      <td>0</td>\n",
              "      <td>4</td>\n",
              "      <td>14</td>\n",
              "      <td>11</td>\n",
              "      <td>4</td>\n",
              "      <td>2</td>\n",
              "      <td>1</td>\n",
              "      <td>6</td>\n",
              "      <td>2</td>\n",
              "    </tr>\n",
              "    <tr>\n",
              "      <th>4</th>\n",
              "      <td>5000.0</td>\n",
              "      <td>424.11</td>\n",
              "      <td>0.0</td>\n",
              "      <td>19</td>\n",
              "      <td>8.60</td>\n",
              "      <td>2</td>\n",
              "      <td>SETTLED</td>\n",
              "      <td>0</td>\n",
              "      <td>42022.000000</td>\n",
              "      <td>10</td>\n",
              "      <td>803</td>\n",
              "      <td>1</td>\n",
              "      <td>2</td>\n",
              "      <td>1</td>\n",
              "      <td>4</td>\n",
              "      <td>0</td>\n",
              "      <td>6</td>\n",
              "      <td>5</td>\n",
              "      <td>2</td>\n",
              "      <td>0</td>\n",
              "      <td>20000.0</td>\n",
              "      <td>3</td>\n",
              "      <td>19</td>\n",
              "      <td>68.67</td>\n",
              "      <td>0</td>\n",
              "      <td>1</td>\n",
              "      <td>20</td>\n",
              "      <td>1</td>\n",
              "      <td>1</td>\n",
              "      <td>1</td>\n",
              "      <td>1</td>\n",
              "      <td>1</td>\n",
              "      <td>1</td>\n",
              "    </tr>\n",
              "    <tr>\n",
              "      <th>6</th>\n",
              "      <td>5000.0</td>\n",
              "      <td>1000.00</td>\n",
              "      <td>0.0</td>\n",
              "      <td>19</td>\n",
              "      <td>11.40</td>\n",
              "      <td>2</td>\n",
              "      <td>SETTLED</td>\n",
              "      <td>0</td>\n",
              "      <td>42021.000000</td>\n",
              "      <td>4</td>\n",
              "      <td>703</td>\n",
              "      <td>0</td>\n",
              "      <td>1</td>\n",
              "      <td>1</td>\n",
              "      <td>9</td>\n",
              "      <td>3</td>\n",
              "      <td>6</td>\n",
              "      <td>5</td>\n",
              "      <td>2</td>\n",
              "      <td>0</td>\n",
              "      <td>20000.0</td>\n",
              "      <td>1</td>\n",
              "      <td>0</td>\n",
              "      <td>58.01</td>\n",
              "      <td>0</td>\n",
              "      <td>4</td>\n",
              "      <td>5</td>\n",
              "      <td>10</td>\n",
              "      <td>4</td>\n",
              "      <td>1</td>\n",
              "      <td>1</td>\n",
              "      <td>1</td>\n",
              "      <td>1</td>\n",
              "    </tr>\n",
              "    <tr>\n",
              "      <th>8</th>\n",
              "      <td>5000.0</td>\n",
              "      <td>1000.00</td>\n",
              "      <td>0.0</td>\n",
              "      <td>19</td>\n",
              "      <td>11.38</td>\n",
              "      <td>2</td>\n",
              "      <td>SETTLED</td>\n",
              "      <td>1</td>\n",
              "      <td>72023.000000</td>\n",
              "      <td>17</td>\n",
              "      <td>814</td>\n",
              "      <td>0</td>\n",
              "      <td>0</td>\n",
              "      <td>3</td>\n",
              "      <td>1</td>\n",
              "      <td>4</td>\n",
              "      <td>6</td>\n",
              "      <td>12</td>\n",
              "      <td>6</td>\n",
              "      <td>0</td>\n",
              "      <td>10000.0</td>\n",
              "      <td>1</td>\n",
              "      <td>19</td>\n",
              "      <td>60.67</td>\n",
              "      <td>0</td>\n",
              "      <td>4</td>\n",
              "      <td>21</td>\n",
              "      <td>10</td>\n",
              "      <td>4</td>\n",
              "      <td>1</td>\n",
              "      <td>1</td>\n",
              "      <td>1</td>\n",
              "      <td>1</td>\n",
              "    </tr>\n",
              "  </tbody>\n",
              "</table>\n",
              "</div>"
            ],
            "text/plain": [
              "   loan_amount  interest_due  ...  work_start_date_month  work_start_date_quarter\n",
              "1      10000.0        500.00  ...                      6                        2\n",
              "2      10000.0        500.00  ...                      6                        2\n",
              "4       5000.0        424.11  ...                      1                        1\n",
              "6       5000.0       1000.00  ...                      1                        1\n",
              "8       5000.0       1000.00  ...                      1                        1\n",
              "\n",
              "[5 rows x 33 columns]"
            ]
          },
          "metadata": {
            "tags": []
          },
          "execution_count": 32
        }
      ]
    },
    {
      "cell_type": "code",
      "metadata": {
        "colab": {
          "base_uri": "https://localhost:8080/"
        },
        "id": "qTDut1q0TJmX",
        "outputId": "27c8132f-9e5f-4c12-bd44-1790cc662543"
      },
      "source": [
        "train['status'].value_counts()"
      ],
      "execution_count": 33,
      "outputs": [
        {
          "output_type": "execute_result",
          "data": {
            "text/plain": [
              "SETTLED     1124\n",
              "PAST DUE     647\n",
              "Name: status, dtype: int64"
            ]
          },
          "metadata": {
            "tags": []
          },
          "execution_count": 33
        }
      ]
    },
    {
      "cell_type": "code",
      "metadata": {
        "id": "4nRZVMP-XSve"
      },
      "source": [
        "target_map = {\r\n",
        "    'SETTLED': 1,\r\n",
        "    'PAST DUE': 0}\r\n",
        "\r\n",
        "train.status.replace(target_map, inplace = True)"
      ],
      "execution_count": 34,
      "outputs": []
    },
    {
      "cell_type": "code",
      "metadata": {
        "colab": {
          "base_uri": "https://localhost:8080/"
        },
        "id": "hlopjwvBYzg_",
        "outputId": "87bc7abf-f66e-477e-9728-7e7bab1d533b"
      },
      "source": [
        "train.status.value_counts()"
      ],
      "execution_count": 35,
      "outputs": [
        {
          "output_type": "execute_result",
          "data": {
            "text/plain": [
              "1    1124\n",
              "0     647\n",
              "Name: status, dtype: int64"
            ]
          },
          "metadata": {
            "tags": []
          },
          "execution_count": 35
        }
      ]
    },
    {
      "cell_type": "code",
      "metadata": {
        "colab": {
          "base_uri": "https://localhost:8080/"
        },
        "id": "E0qT8ywUZiIY",
        "outputId": "2c014fc5-b22e-4047-d1ae-9737331d72cd"
      },
      "source": [
        "corr_matrix = train.corr()\r\n",
        "print(corr_matrix[\"status\"].sort_values(ascending=True))"
      ],
      "execution_count": 56,
      "outputs": [
        {
          "output_type": "stream",
          "text": [
            "status_id                 -1.000000\n",
            "amount_due                -0.962920\n",
            "work_start_date_day       -0.071369\n",
            "interest_rate             -0.051115\n",
            "phone_network             -0.046993\n",
            "interest_due              -0.045204\n",
            "proposed_payday           -0.033436\n",
            "bank                      -0.033017\n",
            "work_start_date_month     -0.029992\n",
            "work_start_date_quarter   -0.029162\n",
            "work_start_date_year      -0.029162\n",
            "location                  -0.021491\n",
            "work_email_validated      -0.013492\n",
            "loan_amount               -0.010355\n",
            "card_expiry               -0.007134\n",
            "educational_attainment     0.003048\n",
            "employment_status          0.006971\n",
            "date_of_birth_quarter      0.011488\n",
            "date_of_birth_year         0.011488\n",
            "sector_of_employment       0.014268\n",
            "date_of_birth_month        0.015224\n",
            "no_of_dependent            0.016954\n",
            "requested_amount           0.018237\n",
            "monthly_net_income         0.031925\n",
            "date_of_birth_day          0.043302\n",
            "credit_score               0.052127\n",
            "card_network               0.057595\n",
            "marital_status             0.066882\n",
            "tenor                      0.071935\n",
            "selfie_id_check            0.076164\n",
            "purpose                    0.081999\n",
            "tier                       0.321445\n",
            "status                     1.000000\n",
            "Name: status, dtype: float64\n"
          ],
          "name": "stdout"
        }
      ]
    },
    {
      "cell_type": "markdown",
      "metadata": {
        "id": "27JT-Gp5Uijk"
      },
      "source": [
        "# Modeling And Algorithm Selection"
      ]
    },
    {
      "cell_type": "code",
      "metadata": {
        "id": "J7OVmLNv_kay"
      },
      "source": [
        "X= train.drop(['status'], axis= 1)\r\n",
        "y= train['status']"
      ],
      "execution_count": 37,
      "outputs": []
    },
    {
      "cell_type": "code",
      "metadata": {
        "id": "m-r6WlAySfmI"
      },
      "source": [
        "train_x, val_x, train_y, val_y= train_test_split(X, y, test_size= 0.2, random_state= 999)"
      ],
      "execution_count": 38,
      "outputs": []
    },
    {
      "cell_type": "code",
      "metadata": {
        "colab": {
          "base_uri": "https://localhost:8080/"
        },
        "id": "KJ-t_3n2UBSB",
        "outputId": "fd74a674-1d68-48da-f4a8-4483a7a74594"
      },
      "source": [
        "lr= LogisticRegression()\r\n",
        "lr.fit(train_x, train_y)\r\n",
        "pred= lr.predict(val_x)\r\n",
        "print('ACC SCR:', accuracy_score(pred, val_y))"
      ],
      "execution_count": 39,
      "outputs": [
        {
          "output_type": "stream",
          "text": [
            "ACC SCR: 0.4112676056338028\n"
          ],
          "name": "stdout"
        },
        {
          "output_type": "stream",
          "text": [
            "/usr/local/lib/python3.6/dist-packages/sklearn/linear_model/_logistic.py:940: ConvergenceWarning: lbfgs failed to converge (status=2):\n",
            "ABNORMAL_TERMINATION_IN_LNSRCH.\n",
            "\n",
            "Increase the number of iterations (max_iter) or scale the data as shown in:\n",
            "    https://scikit-learn.org/stable/modules/preprocessing.html\n",
            "Please also refer to the documentation for alternative solver options:\n",
            "    https://scikit-learn.org/stable/modules/linear_model.html#logistic-regression\n",
            "  extra_warning_msg=_LOGISTIC_SOLVER_CONVERGENCE_MSG)\n"
          ],
          "name": "stderr"
        }
      ]
    },
    {
      "cell_type": "code",
      "metadata": {
        "id": "A8O_cmVPazpP"
      },
      "source": [
        "rf= RandomForestClassifier()"
      ],
      "execution_count": 40,
      "outputs": []
    },
    {
      "cell_type": "markdown",
      "metadata": {
        "id": "FAjeSNTcfrPY"
      },
      "source": [
        "# Cross_Val_Score For Validation"
      ]
    },
    {
      "cell_type": "code",
      "metadata": {
        "id": "CLzygqh_WoJR"
      },
      "source": [
        "CV= cross_val_score(rf, X, y, cv= 5)"
      ],
      "execution_count": 41,
      "outputs": []
    },
    {
      "cell_type": "code",
      "metadata": {
        "colab": {
          "base_uri": "https://localhost:8080/"
        },
        "id": "VfH8eGlCbCT-",
        "outputId": "eab12b95-e40b-40c7-99c1-595aea4c9a5b"
      },
      "source": [
        "print(CV)\r\n",
        "print(CV.mean())"
      ],
      "execution_count": 42,
      "outputs": [
        {
          "output_type": "stream",
          "text": [
            "[1.         1.         1.         1.         0.99435028]\n",
            "0.9988700564971751\n"
          ],
          "name": "stdout"
        }
      ]
    },
    {
      "cell_type": "markdown",
      "metadata": {
        "id": "GZICijoPmNbw"
      },
      "source": [
        "# RandomForestClassifier\r\n",
        "# AdaBoostClassifier\r\n",
        "# Gradient Boosting Classifier"
      ]
    },
    {
      "cell_type": "code",
      "metadata": {
        "colab": {
          "base_uri": "https://localhost:8080/"
        },
        "id": "SaPpPAcNVT5T",
        "outputId": "b1b4b397-9e36-4999-f37d-9b3c608d0fd3"
      },
      "source": [
        "rf= RandomForestClassifier()\r\n",
        "rf.fit(train_x, train_y)\r\n",
        "pred= rf.predict(val_x)\r\n",
        "print('ACC SCR:', accuracy_score(pred, val_y))"
      ],
      "execution_count": 43,
      "outputs": [
        {
          "output_type": "stream",
          "text": [
            "ACC SCR: 1.0\n"
          ],
          "name": "stdout"
        }
      ]
    },
    {
      "cell_type": "code",
      "metadata": {
        "colab": {
          "base_uri": "https://localhost:8080/"
        },
        "id": "EDTmoKOxVToW",
        "outputId": "8c6029ba-6a74-494d-ac93-7ea36990956b"
      },
      "source": [
        "ab= AdaBoostClassifier()\r\n",
        "ab.fit(train_x, train_y)\r\n",
        "pred= ab.predict(val_x)\r\n",
        "print('ACC SCR:', accuracy_score(pred, val_y))"
      ],
      "execution_count": 44,
      "outputs": [
        {
          "output_type": "stream",
          "text": [
            "ACC SCR: 1.0\n"
          ],
          "name": "stdout"
        }
      ]
    },
    {
      "cell_type": "code",
      "metadata": {
        "colab": {
          "base_uri": "https://localhost:8080/"
        },
        "id": "f-g-BLliVz8z",
        "outputId": "2d842d46-3472-41d6-8098-3b0c8438a90f"
      },
      "source": [
        "gb= GradientBoostingClassifier()\r\n",
        "gb.fit(train_x, train_y)\r\n",
        "pred= gb.predict(val_x)\r\n",
        "print('ACC SCR:', accuracy_score(pred, val_y))"
      ],
      "execution_count": 45,
      "outputs": [
        {
          "output_type": "stream",
          "text": [
            "ACC SCR: 1.0\n"
          ],
          "name": "stdout"
        }
      ]
    },
    {
      "cell_type": "code",
      "metadata": {
        "colab": {
          "base_uri": "https://localhost:8080/"
        },
        "id": "Yc9Y2S_KWDcv",
        "outputId": "634d28c5-44b8-46a1-af1a-2e584b0b3408"
      },
      "source": [
        "test.shape"
      ],
      "execution_count": 46,
      "outputs": [
        {
          "output_type": "execute_result",
          "data": {
            "text/plain": [
              "(1210, 33)"
            ]
          },
          "metadata": {
            "tags": []
          },
          "execution_count": 46
        }
      ]
    },
    {
      "cell_type": "code",
      "metadata": {
        "colab": {
          "base_uri": "https://localhost:8080/"
        },
        "id": "hIhQULQpbQtE",
        "outputId": "ca4722c7-ff0d-4bd6-eb00-4540d562a96d"
      },
      "source": [
        "print('REPORT:', classification_report(pred, val_y))"
      ],
      "execution_count": 47,
      "outputs": [
        {
          "output_type": "stream",
          "text": [
            "REPORT:               precision    recall  f1-score   support\n",
            "\n",
            "           0       1.00      1.00      1.00       146\n",
            "           1       1.00      1.00      1.00       209\n",
            "\n",
            "    accuracy                           1.00       355\n",
            "   macro avg       1.00      1.00      1.00       355\n",
            "weighted avg       1.00      1.00      1.00       355\n",
            "\n"
          ],
          "name": "stdout"
        }
      ]
    },
    {
      "cell_type": "markdown",
      "metadata": {
        "id": "r0I_DScrbxwl"
      },
      "source": [
        "# Predicting On The Test Data"
      ]
    },
    {
      "cell_type": "code",
      "metadata": {
        "colab": {
          "base_uri": "https://localhost:8080/",
          "height": 153
        },
        "id": "sPdcEXkcb6Vj",
        "outputId": "3b24ab0c-7d51-4069-b0da-245ac7879125"
      },
      "source": [
        "test.head(3)"
      ],
      "execution_count": 48,
      "outputs": [
        {
          "output_type": "execute_result",
          "data": {
            "text/html": [
              "<div>\n",
              "<style scoped>\n",
              "    .dataframe tbody tr th:only-of-type {\n",
              "        vertical-align: middle;\n",
              "    }\n",
              "\n",
              "    .dataframe tbody tr th {\n",
              "        vertical-align: top;\n",
              "    }\n",
              "\n",
              "    .dataframe thead th {\n",
              "        text-align: right;\n",
              "    }\n",
              "</style>\n",
              "<table border=\"1\" class=\"dataframe\">\n",
              "  <thead>\n",
              "    <tr style=\"text-align: right;\">\n",
              "      <th></th>\n",
              "      <th>loan_amount</th>\n",
              "      <th>interest_due</th>\n",
              "      <th>amount_due</th>\n",
              "      <th>tenor</th>\n",
              "      <th>interest_rate</th>\n",
              "      <th>status_id</th>\n",
              "      <th>status</th>\n",
              "      <th>card_network</th>\n",
              "      <th>card_expiry</th>\n",
              "      <th>bank</th>\n",
              "      <th>phone_network</th>\n",
              "      <th>tier</th>\n",
              "      <th>selfie_id_check</th>\n",
              "      <th>marital_status</th>\n",
              "      <th>no_of_dependent</th>\n",
              "      <th>educational_attainment</th>\n",
              "      <th>employment_status</th>\n",
              "      <th>sector_of_employment</th>\n",
              "      <th>monthly_net_income</th>\n",
              "      <th>work_email_validated</th>\n",
              "      <th>requested_amount</th>\n",
              "      <th>purpose</th>\n",
              "      <th>proposed_payday</th>\n",
              "      <th>credit_score</th>\n",
              "      <th>location</th>\n",
              "      <th>date_of_birth_year</th>\n",
              "      <th>date_of_birth_day</th>\n",
              "      <th>date_of_birth_month</th>\n",
              "      <th>date_of_birth_quarter</th>\n",
              "      <th>work_start_date_year</th>\n",
              "      <th>work_start_date_day</th>\n",
              "      <th>work_start_date_month</th>\n",
              "      <th>work_start_date_quarter</th>\n",
              "    </tr>\n",
              "  </thead>\n",
              "  <tbody>\n",
              "    <tr>\n",
              "      <th>0</th>\n",
              "      <td>3600.0</td>\n",
              "      <td>1277.64</td>\n",
              "      <td>4877.64</td>\n",
              "      <td>10</td>\n",
              "      <td>35.49</td>\n",
              "      <td>1</td>\n",
              "      <td>RUNNING</td>\n",
              "      <td>0</td>\n",
              "      <td>102023.0</td>\n",
              "      <td>6</td>\n",
              "      <td>805</td>\n",
              "      <td>0</td>\n",
              "      <td>1</td>\n",
              "      <td>1</td>\n",
              "      <td>4</td>\n",
              "      <td>1</td>\n",
              "      <td>6</td>\n",
              "      <td>0</td>\n",
              "      <td>0</td>\n",
              "      <td>0</td>\n",
              "      <td>12000.0</td>\n",
              "      <td>1</td>\n",
              "      <td>19</td>\n",
              "      <td>63.04</td>\n",
              "      <td>0</td>\n",
              "      <td>3</td>\n",
              "      <td>25</td>\n",
              "      <td>7</td>\n",
              "      <td>3</td>\n",
              "      <td>4</td>\n",
              "      <td>7</td>\n",
              "      <td>10</td>\n",
              "      <td>4</td>\n",
              "    </tr>\n",
              "    <tr>\n",
              "      <th>5</th>\n",
              "      <td>5000.0</td>\n",
              "      <td>1000.00</td>\n",
              "      <td>6000.00</td>\n",
              "      <td>19</td>\n",
              "      <td>19.21</td>\n",
              "      <td>1</td>\n",
              "      <td>RUNNING</td>\n",
              "      <td>0</td>\n",
              "      <td>92022.0</td>\n",
              "      <td>17</td>\n",
              "      <td>813</td>\n",
              "      <td>0</td>\n",
              "      <td>2</td>\n",
              "      <td>3</td>\n",
              "      <td>1</td>\n",
              "      <td>0</td>\n",
              "      <td>1</td>\n",
              "      <td>13</td>\n",
              "      <td>2</td>\n",
              "      <td>0</td>\n",
              "      <td>5000.0</td>\n",
              "      <td>1</td>\n",
              "      <td>21</td>\n",
              "      <td>57.87</td>\n",
              "      <td>0</td>\n",
              "      <td>1</td>\n",
              "      <td>8</td>\n",
              "      <td>3</td>\n",
              "      <td>1</td>\n",
              "      <td>1</td>\n",
              "      <td>1</td>\n",
              "      <td>1</td>\n",
              "      <td>1</td>\n",
              "    </tr>\n",
              "    <tr>\n",
              "      <th>10</th>\n",
              "      <td>5000.0</td>\n",
              "      <td>1000.00</td>\n",
              "      <td>6000.00</td>\n",
              "      <td>19</td>\n",
              "      <td>18.82</td>\n",
              "      <td>1</td>\n",
              "      <td>RUNNING</td>\n",
              "      <td>1</td>\n",
              "      <td>122022.0</td>\n",
              "      <td>0</td>\n",
              "      <td>802</td>\n",
              "      <td>0</td>\n",
              "      <td>1</td>\n",
              "      <td>1</td>\n",
              "      <td>13</td>\n",
              "      <td>4</td>\n",
              "      <td>6</td>\n",
              "      <td>17</td>\n",
              "      <td>0</td>\n",
              "      <td>0</td>\n",
              "      <td>50000.0</td>\n",
              "      <td>1</td>\n",
              "      <td>0</td>\n",
              "      <td>61.85</td>\n",
              "      <td>0</td>\n",
              "      <td>2</td>\n",
              "      <td>7</td>\n",
              "      <td>4</td>\n",
              "      <td>2</td>\n",
              "      <td>1</td>\n",
              "      <td>1</td>\n",
              "      <td>1</td>\n",
              "      <td>1</td>\n",
              "    </tr>\n",
              "  </tbody>\n",
              "</table>\n",
              "</div>"
            ],
            "text/plain": [
              "    loan_amount  interest_due  ...  work_start_date_month  work_start_date_quarter\n",
              "0        3600.0       1277.64  ...                     10                        4\n",
              "5        5000.0       1000.00  ...                      1                        1\n",
              "10       5000.0       1000.00  ...                      1                        1\n",
              "\n",
              "[3 rows x 33 columns]"
            ]
          },
          "metadata": {
            "tags": []
          },
          "execution_count": 48
        }
      ]
    },
    {
      "cell_type": "code",
      "metadata": {
        "id": "x2N3XROgcD2d"
      },
      "source": [
        "test= test.drop(['status'], axis= 1)"
      ],
      "execution_count": 49,
      "outputs": []
    },
    {
      "cell_type": "code",
      "metadata": {
        "colab": {
          "base_uri": "https://localhost:8080/"
        },
        "id": "ErVLjtbabaHg",
        "outputId": "635f6b0b-460c-410e-cdf0-6a785cd2ab88"
      },
      "source": [
        "rf.fit(X,y)"
      ],
      "execution_count": 50,
      "outputs": [
        {
          "output_type": "execute_result",
          "data": {
            "text/plain": [
              "RandomForestClassifier(bootstrap=True, ccp_alpha=0.0, class_weight=None,\n",
              "                       criterion='gini', max_depth=None, max_features='auto',\n",
              "                       max_leaf_nodes=None, max_samples=None,\n",
              "                       min_impurity_decrease=0.0, min_impurity_split=None,\n",
              "                       min_samples_leaf=1, min_samples_split=2,\n",
              "                       min_weight_fraction_leaf=0.0, n_estimators=100,\n",
              "                       n_jobs=None, oob_score=False, random_state=None,\n",
              "                       verbose=0, warm_start=False)"
            ]
          },
          "metadata": {
            "tags": []
          },
          "execution_count": 50
        }
      ]
    },
    {
      "cell_type": "code",
      "metadata": {
        "id": "Nn8_qXUabin2"
      },
      "source": [
        "prediction= rf.predict(test)"
      ],
      "execution_count": 51,
      "outputs": []
    },
    {
      "cell_type": "code",
      "metadata": {
        "colab": {
          "base_uri": "https://localhost:8080/"
        },
        "id": "VvdnBfjjbrk4",
        "outputId": "8ad1f94b-dbfe-4d51-8049-6be48779cce6"
      },
      "source": [
        "prediction"
      ],
      "execution_count": 52,
      "outputs": [
        {
          "output_type": "execute_result",
          "data": {
            "text/plain": [
              "array([1, 1, 1, ..., 1, 1, 1])"
            ]
          },
          "metadata": {
            "tags": []
          },
          "execution_count": 52
        }
      ]
    },
    {
      "cell_type": "code",
      "metadata": {
        "id": "2PrW_l9ycM6Q"
      },
      "source": [
        "result= pd.DataFrame(prediction)"
      ],
      "execution_count": 53,
      "outputs": []
    },
    {
      "cell_type": "code",
      "metadata": {
        "id": "15kSwjIUcciY"
      },
      "source": [
        "result.to_csv('olowe.csv', index= False)"
      ],
      "execution_count": 54,
      "outputs": []
    },
    {
      "cell_type": "markdown",
      "metadata": {
        "id": "5NgrfEAllcrd"
      },
      "source": [
        "# Feature Importance"
      ]
    },
    {
      "cell_type": "code",
      "metadata": {
        "colab": {
          "base_uri": "https://localhost:8080/",
          "height": 528
        },
        "id": "HemTp7Y0iEyo",
        "outputId": "eec433d1-aae5-42c8-edf4-bf3385ff9135"
      },
      "source": [
        "features=df.columns\r\n",
        "importances = rf.feature_importances_\r\n",
        "indices = np.argsort(importances)\r\n",
        "\r\n",
        "plt.figure(figsize=(12,8))\r\n",
        "plt.title('Feature Importances')\r\n",
        "plt.barh(range(len(indices)), importances[indices], color='r', align='center')\r\n",
        "plt.yticks(range(len(indices)), features[indices])\r\n",
        "plt.xlabel('Relative Importance')"
      ],
      "execution_count": 55,
      "outputs": [
        {
          "output_type": "execute_result",
          "data": {
            "text/plain": [
              "Text(0.5, 0, 'Relative Importance')"
            ]
          },
          "metadata": {
            "tags": []
          },
          "execution_count": 55
        },
        {
          "output_type": "display_data",
          "data": {
            "image/png": "[encoded data removed]",
            "text/plain": [
              "<Figure size 864x576 with 1 Axes>"
            ]
          },
          "metadata": {
            "tags": [],
            "needs_background": "light"
          }
        }
      ]
    },
    {
      "cell_type": "code",
      "metadata": {
        "id": "YnFw0x6Mkfw5"
      },
      "source": [
        ""
      ],
      "execution_count": 55,
      "outputs": []
    }
  ]
}